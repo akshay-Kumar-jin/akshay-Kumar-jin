{
 "cells": [
  {
   "cell_type": "markdown",
   "id": "69fa40c9",
   "metadata": {},
   "source": [
    "# developing a model to predict taxi fare"
   ]
  },
  {
   "cell_type": "markdown",
   "id": "cb1acecf",
   "metadata": {},
   "source": [
    "## Importing the required packages"
   ]
  },
  {
   "cell_type": "code",
   "execution_count": 1,
   "id": "f3f38c54",
   "metadata": {},
   "outputs": [],
   "source": [
    "import pandas as pd\n",
    "import numpy as np\n",
    "from sklearn import metrics\n",
    "import matplotlib.pyplot as plt\n",
    "%matplotlib inline \n",
    "import seaborn as sns\n",
    "from sklearn.model_selection import train_test_split  \n",
    "from sklearn import tree\n",
    "from os import system"
   ]
  },
  {
   "cell_type": "code",
   "execution_count": 2,
   "id": "70eea5e6",
   "metadata": {},
   "outputs": [],
   "source": [
    "df=pd.read_csv('train_data_iitm.csv')"
   ]
  },
  {
   "cell_type": "code",
   "execution_count": 3,
   "id": "ecd1b568",
   "metadata": {},
   "outputs": [
    {
     "data": {
      "text/plain": [
       "(60000, 12)"
      ]
     },
     "execution_count": 3,
     "metadata": {},
     "output_type": "execute_result"
    }
   ],
   "source": [
    "df.shape"
   ]
  },
  {
   "cell_type": "code",
   "execution_count": 4,
   "id": "ed9608ac",
   "metadata": {
    "scrolled": false
   },
   "outputs": [
    {
     "data": {
      "text/html": [
       "<div>\n",
       "<style scoped>\n",
       "    .dataframe tbody tr th:only-of-type {\n",
       "        vertical-align: middle;\n",
       "    }\n",
       "\n",
       "    .dataframe tbody tr th {\n",
       "        vertical-align: top;\n",
       "    }\n",
       "\n",
       "    .dataframe thead th {\n",
       "        text-align: right;\n",
       "    }\n",
       "</style>\n",
       "<table border=\"1\" class=\"dataframe\">\n",
       "  <thead>\n",
       "    <tr style=\"text-align: right;\">\n",
       "      <th></th>\n",
       "      <th>VendorID</th>\n",
       "      <th>tpep_pickup_datetime</th>\n",
       "      <th>tpep_dropoff_datetime</th>\n",
       "      <th>passenger_count</th>\n",
       "      <th>trip_distance</th>\n",
       "      <th>RatecodeID</th>\n",
       "      <th>store_and_fwd_flag</th>\n",
       "      <th>PULocationID</th>\n",
       "      <th>DOLocationID</th>\n",
       "      <th>payment_type</th>\n",
       "      <th>fare_amount</th>\n",
       "      <th>congestion_surcharge</th>\n",
       "    </tr>\n",
       "  </thead>\n",
       "  <tbody>\n",
       "    <tr>\n",
       "      <th>0</th>\n",
       "      <td>2.0</td>\n",
       "      <td>2020-06-10 13:36:49</td>\n",
       "      <td>2020-06-10 13:51:08</td>\n",
       "      <td>1.0</td>\n",
       "      <td>2.73</td>\n",
       "      <td>1.0</td>\n",
       "      <td>N</td>\n",
       "      <td>224</td>\n",
       "      <td>148</td>\n",
       "      <td>2.0</td>\n",
       "      <td>12.00</td>\n",
       "      <td>2.5</td>\n",
       "    </tr>\n",
       "    <tr>\n",
       "      <th>1</th>\n",
       "      <td>NaN</td>\n",
       "      <td>2020-06-13 06:19:00</td>\n",
       "      <td>2020-06-13 06:37:00</td>\n",
       "      <td>NaN</td>\n",
       "      <td>11.58</td>\n",
       "      <td>NaN</td>\n",
       "      <td>NaN</td>\n",
       "      <td>56</td>\n",
       "      <td>42</td>\n",
       "      <td>NaN</td>\n",
       "      <td>28.81</td>\n",
       "      <td>0.0</td>\n",
       "    </tr>\n",
       "    <tr>\n",
       "      <th>2</th>\n",
       "      <td>2.0</td>\n",
       "      <td>2020-06-20 07:59:23</td>\n",
       "      <td>2020-06-20 08:05:39</td>\n",
       "      <td>1.0</td>\n",
       "      <td>2.05</td>\n",
       "      <td>1.0</td>\n",
       "      <td>N</td>\n",
       "      <td>79</td>\n",
       "      <td>68</td>\n",
       "      <td>2.0</td>\n",
       "      <td>8.00</td>\n",
       "      <td>2.5</td>\n",
       "    </tr>\n",
       "    <tr>\n",
       "      <th>3</th>\n",
       "      <td>1.0</td>\n",
       "      <td>2020-06-27 15:11:32</td>\n",
       "      <td>2020-06-27 15:15:02</td>\n",
       "      <td>1.0</td>\n",
       "      <td>1.40</td>\n",
       "      <td>1.0</td>\n",
       "      <td>N</td>\n",
       "      <td>236</td>\n",
       "      <td>75</td>\n",
       "      <td>1.0</td>\n",
       "      <td>6.00</td>\n",
       "      <td>2.5</td>\n",
       "    </tr>\n",
       "    <tr>\n",
       "      <th>4</th>\n",
       "      <td>1.0</td>\n",
       "      <td>2020-06-26 16:00:36</td>\n",
       "      <td>2020-06-26 16:02:28</td>\n",
       "      <td>1.0</td>\n",
       "      <td>0.60</td>\n",
       "      <td>1.0</td>\n",
       "      <td>N</td>\n",
       "      <td>186</td>\n",
       "      <td>90</td>\n",
       "      <td>2.0</td>\n",
       "      <td>4.00</td>\n",
       "      <td>2.5</td>\n",
       "    </tr>\n",
       "  </tbody>\n",
       "</table>\n",
       "</div>"
      ],
      "text/plain": [
       "   VendorID tpep_pickup_datetime tpep_dropoff_datetime  passenger_count  \\\n",
       "0       2.0  2020-06-10 13:36:49   2020-06-10 13:51:08              1.0   \n",
       "1       NaN  2020-06-13 06:19:00   2020-06-13 06:37:00              NaN   \n",
       "2       2.0  2020-06-20 07:59:23   2020-06-20 08:05:39              1.0   \n",
       "3       1.0  2020-06-27 15:11:32   2020-06-27 15:15:02              1.0   \n",
       "4       1.0  2020-06-26 16:00:36   2020-06-26 16:02:28              1.0   \n",
       "\n",
       "   trip_distance  RatecodeID store_and_fwd_flag  PULocationID  DOLocationID  \\\n",
       "0           2.73         1.0                  N           224           148   \n",
       "1          11.58         NaN                NaN            56            42   \n",
       "2           2.05         1.0                  N            79            68   \n",
       "3           1.40         1.0                  N           236            75   \n",
       "4           0.60         1.0                  N           186            90   \n",
       "\n",
       "   payment_type  fare_amount  congestion_surcharge  \n",
       "0           2.0        12.00                   2.5  \n",
       "1           NaN        28.81                   0.0  \n",
       "2           2.0         8.00                   2.5  \n",
       "3           1.0         6.00                   2.5  \n",
       "4           2.0         4.00                   2.5  "
      ]
     },
     "execution_count": 4,
     "metadata": {},
     "output_type": "execute_result"
    }
   ],
   "source": [
    "df.head()"
   ]
  },
  {
   "cell_type": "code",
   "execution_count": 5,
   "id": "46e60a23",
   "metadata": {},
   "outputs": [
    {
     "name": "stdout",
     "output_type": "stream",
     "text": [
      "<class 'pandas.core.frame.DataFrame'>\n",
      "RangeIndex: 60000 entries, 0 to 59999\n",
      "Data columns (total 12 columns):\n",
      " #   Column                 Non-Null Count  Dtype  \n",
      "---  ------                 --------------  -----  \n",
      " 0   VendorID               54365 non-null  float64\n",
      " 1   tpep_pickup_datetime   60000 non-null  object \n",
      " 2   tpep_dropoff_datetime  60000 non-null  object \n",
      " 3   passenger_count        54365 non-null  float64\n",
      " 4   trip_distance          60000 non-null  float64\n",
      " 5   RatecodeID             54365 non-null  float64\n",
      " 6   store_and_fwd_flag     54365 non-null  object \n",
      " 7   PULocationID           60000 non-null  int64  \n",
      " 8   DOLocationID           60000 non-null  int64  \n",
      " 9   payment_type           54365 non-null  float64\n",
      " 10  fare_amount            60000 non-null  float64\n",
      " 11  congestion_surcharge   60000 non-null  float64\n",
      "dtypes: float64(7), int64(2), object(3)\n",
      "memory usage: 5.5+ MB\n"
     ]
    }
   ],
   "source": [
    "df.info() #total 12 columns"
   ]
  },
  {
   "cell_type": "markdown",
   "id": "92e1473d",
   "metadata": {},
   "source": [
    "# Cleaning and Visualising the data"
   ]
  },
  {
   "cell_type": "code",
   "execution_count": 6,
   "id": "df736b79",
   "metadata": {},
   "outputs": [
    {
     "data": {
      "text/plain": [
       "VendorID                 5635\n",
       "tpep_pickup_datetime        0\n",
       "tpep_dropoff_datetime       0\n",
       "passenger_count          5635\n",
       "trip_distance               0\n",
       "RatecodeID               5635\n",
       "store_and_fwd_flag       5635\n",
       "PULocationID                0\n",
       "DOLocationID                0\n",
       "payment_type             5635\n",
       "fare_amount                 0\n",
       "congestion_surcharge        0\n",
       "dtype: int64"
      ]
     },
     "execution_count": 6,
     "metadata": {},
     "output_type": "execute_result"
    }
   ],
   "source": [
    "df.isnull().sum() #checking number of null values"
   ]
  },
  {
   "cell_type": "code",
   "execution_count": 7,
   "id": "da847f9e",
   "metadata": {},
   "outputs": [
    {
     "data": {
      "text/plain": [
       "<AxesSubplot:>"
      ]
     },
     "execution_count": 7,
     "metadata": {},
     "output_type": "execute_result"
    },
    {
     "data": {
      "image/png": "[encoded data removed]",
      "text/plain": [
       "<Figure size 432x288 with 2 Axes>"
      ]
     },
     "metadata": {
      "needs_background": "light"
     },
     "output_type": "display_data"
    }
   ],
   "source": [
    "sns.heatmap(df.isnull(),yticklabels=False,cmap=\"viridis\")"
   ]
  },
  {
   "cell_type": "code",
   "execution_count": 61,
   "id": "92bcf57e",
   "metadata": {},
   "outputs": [
    {
     "name": "stderr",
     "output_type": "stream",
     "text": [
      "C:\\Users\\DELL\\anaconda3\\lib\\site-packages\\seaborn\\distributions.py:2557: FutureWarning: `distplot` is a deprecated function and will be removed in a future version. Please adapt your code to use either `displot` (a figure-level function with similar flexibility) or `histplot` (an axes-level function for histograms).\n",
      "  warnings.warn(msg, FutureWarning)\n"
     ]
    },
    {
     "data": {
      "text/plain": [
       "<AxesSubplot:xlabel='fare_amount', ylabel='Density'>"
      ]
     },
     "execution_count": 61,
     "metadata": {},
     "output_type": "execute_result"
    },
    {
     "data": {
      "image/png": "[encoded data removed]",
      "text/plain": [
       "<Figure size 432x288 with 1 Axes>"
      ]
     },
     "metadata": {
      "needs_background": "light"
     },
     "output_type": "display_data"
    }
   ],
   "source": [
    "sns.distplot(df.fare_amount)"
   ]
  },
  {
   "cell_type": "code",
   "execution_count": 8,
   "id": "c17aaa9c",
   "metadata": {},
   "outputs": [
    {
     "name": "stderr",
     "output_type": "stream",
     "text": [
      "C:\\Users\\DELL\\anaconda3\\lib\\site-packages\\seaborn\\distributions.py:2557: FutureWarning: `distplot` is a deprecated function and will be removed in a future version. Please adapt your code to use either `displot` (a figure-level function with similar flexibility) or `histplot` (an axes-level function for histograms).\n",
      "  warnings.warn(msg, FutureWarning)\n"
     ]
    },
    {
     "data": {
      "text/plain": [
       "<AxesSubplot:xlabel='trip_distance', ylabel='Density'>"
      ]
     },
     "execution_count": 8,
     "metadata": {},
     "output_type": "execute_result"
    },
    {
     "data": {
      "image/png": "[encoded data removed]",
      "text/plain": [
       "<Figure size 432x288 with 1 Axes>"
      ]
     },
     "metadata": {
      "needs_background": "light"
     },
     "output_type": "display_data"
    }
   ],
   "source": [
    "sns.distplot(df.trip_distance )  "
   ]
  },
  {
   "cell_type": "code",
   "execution_count": 9,
   "id": "9e60713b",
   "metadata": {},
   "outputs": [
    {
     "name": "stderr",
     "output_type": "stream",
     "text": [
      "C:\\Users\\DELL\\anaconda3\\lib\\site-packages\\seaborn\\distributions.py:2557: FutureWarning: `distplot` is a deprecated function and will be removed in a future version. Please adapt your code to use either `displot` (a figure-level function with similar flexibility) or `histplot` (an axes-level function for histograms).\n",
      "  warnings.warn(msg, FutureWarning)\n"
     ]
    },
    {
     "data": {
      "text/plain": [
       "<AxesSubplot:xlabel='PULocationID', ylabel='Density'>"
      ]
     },
     "execution_count": 9,
     "metadata": {},
     "output_type": "execute_result"
    },
    {
     "data": {
      "image/png": "[encoded data removed]",
      "text/plain": [
       "<Figure size 432x288 with 1 Axes>"
      ]
     },
     "metadata": {
      "needs_background": "light"
     },
     "output_type": "display_data"
    }
   ],
   "source": [
    "sns.distplot(df.PULocationID )  "
   ]
  },
  {
   "cell_type": "code",
   "execution_count": 10,
   "id": "17affa3e",
   "metadata": {},
   "outputs": [
    {
     "name": "stderr",
     "output_type": "stream",
     "text": [
      "C:\\Users\\DELL\\anaconda3\\lib\\site-packages\\seaborn\\distributions.py:2557: FutureWarning: `distplot` is a deprecated function and will be removed in a future version. Please adapt your code to use either `displot` (a figure-level function with similar flexibility) or `histplot` (an axes-level function for histograms).\n",
      "  warnings.warn(msg, FutureWarning)\n"
     ]
    },
    {
     "data": {
      "text/plain": [
       "<AxesSubplot:xlabel='DOLocationID', ylabel='Density'>"
      ]
     },
     "execution_count": 10,
     "metadata": {},
     "output_type": "execute_result"
    },
    {
     "data": {
      "image/png": "[encoded data removed]",
      "text/plain": [
       "<Figure size 432x288 with 1 Axes>"
      ]
     },
     "metadata": {
      "needs_background": "light"
     },
     "output_type": "display_data"
    }
   ],
   "source": [
    "sns.distplot(df.DOLocationID )"
   ]
  },
  {
   "cell_type": "code",
   "execution_count": 11,
   "id": "eeb681a0",
   "metadata": {},
   "outputs": [
    {
     "name": "stderr",
     "output_type": "stream",
     "text": [
      "C:\\Users\\DELL\\anaconda3\\lib\\site-packages\\seaborn\\distributions.py:2557: FutureWarning: `distplot` is a deprecated function and will be removed in a future version. Please adapt your code to use either `displot` (a figure-level function with similar flexibility) or `histplot` (an axes-level function for histograms).\n",
      "  warnings.warn(msg, FutureWarning)\n"
     ]
    },
    {
     "data": {
      "text/plain": [
       "<AxesSubplot:xlabel='congestion_surcharge', ylabel='Density'>"
      ]
     },
     "execution_count": 11,
     "metadata": {},
     "output_type": "execute_result"
    },
    {
     "data": {
      "image/png": "[encoded data removed]",
      "text/plain": [
       "<Figure size 432x288 with 1 Axes>"
      ]
     },
     "metadata": {
      "needs_background": "light"
     },
     "output_type": "display_data"
    }
   ],
   "source": [
    "sns.distplot(df.congestion_surcharge)"
   ]
  },
  {
   "cell_type": "code",
   "execution_count": 12,
   "id": "dad70912",
   "metadata": {},
   "outputs": [
    {
     "name": "stderr",
     "output_type": "stream",
     "text": [
      "C:\\Users\\DELL\\anaconda3\\lib\\site-packages\\seaborn\\distributions.py:2557: FutureWarning: `distplot` is a deprecated function and will be removed in a future version. Please adapt your code to use either `displot` (a figure-level function with similar flexibility) or `histplot` (an axes-level function for histograms).\n",
      "  warnings.warn(msg, FutureWarning)\n"
     ]
    },
    {
     "data": {
      "text/plain": [
       "<AxesSubplot:xlabel='VendorID', ylabel='Density'>"
      ]
     },
     "execution_count": 12,
     "metadata": {},
     "output_type": "execute_result"
    },
    {
     "data": {
      "image/png": "[encoded data removed]",
      "text/plain": [
       "<Figure size 432x288 with 1 Axes>"
      ]
     },
     "metadata": {
      "needs_background": "light"
     },
     "output_type": "display_data"
    }
   ],
   "source": [
    "#lets try to fill the missing values of vendor id\n",
    "sns.distplot(df.VendorID )                      # looks like vendor id 2 is of higher density "
   ]
  },
  {
   "cell_type": "code",
   "execution_count": 13,
   "id": "75e42717",
   "metadata": {},
   "outputs": [
    {
     "data": {
      "text/html": [
       "<div>\n",
       "<style scoped>\n",
       "    .dataframe tbody tr th:only-of-type {\n",
       "        vertical-align: middle;\n",
       "    }\n",
       "\n",
       "    .dataframe tbody tr th {\n",
       "        vertical-align: top;\n",
       "    }\n",
       "\n",
       "    .dataframe thead th {\n",
       "        text-align: right;\n",
       "    }\n",
       "</style>\n",
       "<table border=\"1\" class=\"dataframe\">\n",
       "  <thead>\n",
       "    <tr style=\"text-align: right;\">\n",
       "      <th></th>\n",
       "      <th>VendorID</th>\n",
       "      <th>tpep_pickup_datetime</th>\n",
       "      <th>tpep_dropoff_datetime</th>\n",
       "      <th>passenger_count</th>\n",
       "      <th>trip_distance</th>\n",
       "      <th>RatecodeID</th>\n",
       "      <th>store_and_fwd_flag</th>\n",
       "      <th>PULocationID</th>\n",
       "      <th>DOLocationID</th>\n",
       "      <th>payment_type</th>\n",
       "      <th>fare_amount</th>\n",
       "      <th>congestion_surcharge</th>\n",
       "    </tr>\n",
       "  </thead>\n",
       "  <tbody>\n",
       "    <tr>\n",
       "      <th>0</th>\n",
       "      <td>2.0</td>\n",
       "      <td>2020-06-10 13:36:49</td>\n",
       "      <td>2020-06-10 13:51:08</td>\n",
       "      <td>1.0</td>\n",
       "      <td>2.73</td>\n",
       "      <td>1.0</td>\n",
       "      <td>N</td>\n",
       "      <td>224</td>\n",
       "      <td>148</td>\n",
       "      <td>2.0</td>\n",
       "      <td>12.00</td>\n",
       "      <td>2.5</td>\n",
       "    </tr>\n",
       "    <tr>\n",
       "      <th>1</th>\n",
       "      <td>2.0</td>\n",
       "      <td>2020-06-13 06:19:00</td>\n",
       "      <td>2020-06-13 06:37:00</td>\n",
       "      <td>NaN</td>\n",
       "      <td>11.58</td>\n",
       "      <td>NaN</td>\n",
       "      <td>NaN</td>\n",
       "      <td>56</td>\n",
       "      <td>42</td>\n",
       "      <td>NaN</td>\n",
       "      <td>28.81</td>\n",
       "      <td>0.0</td>\n",
       "    </tr>\n",
       "    <tr>\n",
       "      <th>2</th>\n",
       "      <td>2.0</td>\n",
       "      <td>2020-06-20 07:59:23</td>\n",
       "      <td>2020-06-20 08:05:39</td>\n",
       "      <td>1.0</td>\n",
       "      <td>2.05</td>\n",
       "      <td>1.0</td>\n",
       "      <td>N</td>\n",
       "      <td>79</td>\n",
       "      <td>68</td>\n",
       "      <td>2.0</td>\n",
       "      <td>8.00</td>\n",
       "      <td>2.5</td>\n",
       "    </tr>\n",
       "    <tr>\n",
       "      <th>3</th>\n",
       "      <td>1.0</td>\n",
       "      <td>2020-06-27 15:11:32</td>\n",
       "      <td>2020-06-27 15:15:02</td>\n",
       "      <td>1.0</td>\n",
       "      <td>1.40</td>\n",
       "      <td>1.0</td>\n",
       "      <td>N</td>\n",
       "      <td>236</td>\n",
       "      <td>75</td>\n",
       "      <td>1.0</td>\n",
       "      <td>6.00</td>\n",
       "      <td>2.5</td>\n",
       "    </tr>\n",
       "    <tr>\n",
       "      <th>4</th>\n",
       "      <td>1.0</td>\n",
       "      <td>2020-06-26 16:00:36</td>\n",
       "      <td>2020-06-26 16:02:28</td>\n",
       "      <td>1.0</td>\n",
       "      <td>0.60</td>\n",
       "      <td>1.0</td>\n",
       "      <td>N</td>\n",
       "      <td>186</td>\n",
       "      <td>90</td>\n",
       "      <td>2.0</td>\n",
       "      <td>4.00</td>\n",
       "      <td>2.5</td>\n",
       "    </tr>\n",
       "  </tbody>\n",
       "</table>\n",
       "</div>"
      ],
      "text/plain": [
       "   VendorID tpep_pickup_datetime tpep_dropoff_datetime  passenger_count  \\\n",
       "0       2.0  2020-06-10 13:36:49   2020-06-10 13:51:08              1.0   \n",
       "1       2.0  2020-06-13 06:19:00   2020-06-13 06:37:00              NaN   \n",
       "2       2.0  2020-06-20 07:59:23   2020-06-20 08:05:39              1.0   \n",
       "3       1.0  2020-06-27 15:11:32   2020-06-27 15:15:02              1.0   \n",
       "4       1.0  2020-06-26 16:00:36   2020-06-26 16:02:28              1.0   \n",
       "\n",
       "   trip_distance  RatecodeID store_and_fwd_flag  PULocationID  DOLocationID  \\\n",
       "0           2.73         1.0                  N           224           148   \n",
       "1          11.58         NaN                NaN            56            42   \n",
       "2           2.05         1.0                  N            79            68   \n",
       "3           1.40         1.0                  N           236            75   \n",
       "4           0.60         1.0                  N           186            90   \n",
       "\n",
       "   payment_type  fare_amount  congestion_surcharge  \n",
       "0           2.0        12.00                   2.5  \n",
       "1           NaN        28.81                   0.0  \n",
       "2           2.0         8.00                   2.5  \n",
       "3           1.0         6.00                   2.5  \n",
       "4           2.0         4.00                   2.5  "
      ]
     },
     "execution_count": 13,
     "metadata": {},
     "output_type": "execute_result"
    }
   ],
   "source": [
    "from sklearn.impute import SimpleImputer\n",
    "\n",
    "imputer = SimpleImputer(missing_values=np.NaN)      #replacing the missing value with 2\n",
    "df['VendorID'].fillna(2, inplace=True)\n",
    "df.head()"
   ]
  },
  {
   "cell_type": "code",
   "execution_count": 14,
   "id": "c387f970",
   "metadata": {},
   "outputs": [
    {
     "name": "stderr",
     "output_type": "stream",
     "text": [
      "C:\\Users\\DELL\\anaconda3\\lib\\site-packages\\seaborn\\distributions.py:2557: FutureWarning: `distplot` is a deprecated function and will be removed in a future version. Please adapt your code to use either `displot` (a figure-level function with similar flexibility) or `histplot` (an axes-level function for histograms).\n",
      "  warnings.warn(msg, FutureWarning)\n"
     ]
    },
    {
     "data": {
      "text/plain": [
       "<AxesSubplot:xlabel='passenger_count', ylabel='Density'>"
      ]
     },
     "execution_count": 14,
     "metadata": {},
     "output_type": "execute_result"
    },
    {
     "data": {
      "image/png": "[encoded data removed]",
      "text/plain": [
       "<Figure size 432x288 with 1 Axes>"
      ]
     },
     "metadata": {
      "needs_background": "light"
     },
     "output_type": "display_data"
    }
   ],
   "source": [
    "#lets try to fill the missing values of passenger count\n",
    "sns.distplot(df.passenger_count)                      # easily seen that 1 is of majority"
   ]
  },
  {
   "cell_type": "code",
   "execution_count": 15,
   "id": "30abb6cc",
   "metadata": {},
   "outputs": [
    {
     "data": {
      "text/plain": [
       "<AxesSubplot:xlabel='passenger_count', ylabel='count'>"
      ]
     },
     "execution_count": 15,
     "metadata": {},
     "output_type": "execute_result"
    },
    {
     "data": {
      "image/png": "[encoded data removed]",
      "text/plain": [
       "<Figure size 432x288 with 1 Axes>"
      ]
     },
     "metadata": {
      "needs_background": "light"
     },
     "output_type": "display_data"
    }
   ],
   "source": [
    "sns.countplot(x=\"passenger_count\",data=df) #countplot for better visualisation"
   ]
  },
  {
   "cell_type": "code",
   "execution_count": 16,
   "id": "1b8bcc2c",
   "metadata": {
    "scrolled": false
   },
   "outputs": [],
   "source": [
    "from sklearn.impute import SimpleImputer\n",
    "\n",
    "imputer = SimpleImputer(missing_values=np.NaN)  # replacing the missing value with 1\n",
    "df['passenger_count'].fillna(1, inplace=True)"
   ]
  },
  {
   "cell_type": "code",
   "execution_count": 17,
   "id": "b14095e9",
   "metadata": {},
   "outputs": [
    {
     "data": {
      "text/plain": [
       "<AxesSubplot:xlabel='RatecodeID', ylabel='count'>"
      ]
     },
     "execution_count": 17,
     "metadata": {},
     "output_type": "execute_result"
    },
    {
     "data": {
      "image/png": "[encoded data removed]",
      "text/plain": [
       "<Figure size 432x288 with 1 Axes>"
      ]
     },
     "metadata": {
      "needs_background": "light"
     },
     "output_type": "display_data"
    }
   ],
   "source": [
    "#lets try to fill the missing values of RatecodeID\n",
    "sns.countplot(x=\"RatecodeID\",data=df)   #1 is of very high majority"
   ]
  },
  {
   "cell_type": "code",
   "execution_count": 18,
   "id": "c9beb5ad",
   "metadata": {},
   "outputs": [
    {
     "data": {
      "text/html": [
       "<div>\n",
       "<style scoped>\n",
       "    .dataframe tbody tr th:only-of-type {\n",
       "        vertical-align: middle;\n",
       "    }\n",
       "\n",
       "    .dataframe tbody tr th {\n",
       "        vertical-align: top;\n",
       "    }\n",
       "\n",
       "    .dataframe thead th {\n",
       "        text-align: right;\n",
       "    }\n",
       "</style>\n",
       "<table border=\"1\" class=\"dataframe\">\n",
       "  <thead>\n",
       "    <tr style=\"text-align: right;\">\n",
       "      <th></th>\n",
       "      <th>VendorID</th>\n",
       "      <th>tpep_pickup_datetime</th>\n",
       "      <th>tpep_dropoff_datetime</th>\n",
       "      <th>passenger_count</th>\n",
       "      <th>trip_distance</th>\n",
       "      <th>RatecodeID</th>\n",
       "      <th>store_and_fwd_flag</th>\n",
       "      <th>PULocationID</th>\n",
       "      <th>DOLocationID</th>\n",
       "      <th>payment_type</th>\n",
       "      <th>fare_amount</th>\n",
       "      <th>congestion_surcharge</th>\n",
       "    </tr>\n",
       "  </thead>\n",
       "  <tbody>\n",
       "    <tr>\n",
       "      <th>0</th>\n",
       "      <td>2.0</td>\n",
       "      <td>2020-06-10 13:36:49</td>\n",
       "      <td>2020-06-10 13:51:08</td>\n",
       "      <td>1.0</td>\n",
       "      <td>2.73</td>\n",
       "      <td>1.0</td>\n",
       "      <td>N</td>\n",
       "      <td>224</td>\n",
       "      <td>148</td>\n",
       "      <td>2.0</td>\n",
       "      <td>12.00</td>\n",
       "      <td>2.5</td>\n",
       "    </tr>\n",
       "    <tr>\n",
       "      <th>1</th>\n",
       "      <td>2.0</td>\n",
       "      <td>2020-06-13 06:19:00</td>\n",
       "      <td>2020-06-13 06:37:00</td>\n",
       "      <td>1.0</td>\n",
       "      <td>11.58</td>\n",
       "      <td>1.0</td>\n",
       "      <td>NaN</td>\n",
       "      <td>56</td>\n",
       "      <td>42</td>\n",
       "      <td>NaN</td>\n",
       "      <td>28.81</td>\n",
       "      <td>0.0</td>\n",
       "    </tr>\n",
       "    <tr>\n",
       "      <th>2</th>\n",
       "      <td>2.0</td>\n",
       "      <td>2020-06-20 07:59:23</td>\n",
       "      <td>2020-06-20 08:05:39</td>\n",
       "      <td>1.0</td>\n",
       "      <td>2.05</td>\n",
       "      <td>1.0</td>\n",
       "      <td>N</td>\n",
       "      <td>79</td>\n",
       "      <td>68</td>\n",
       "      <td>2.0</td>\n",
       "      <td>8.00</td>\n",
       "      <td>2.5</td>\n",
       "    </tr>\n",
       "    <tr>\n",
       "      <th>3</th>\n",
       "      <td>1.0</td>\n",
       "      <td>2020-06-27 15:11:32</td>\n",
       "      <td>2020-06-27 15:15:02</td>\n",
       "      <td>1.0</td>\n",
       "      <td>1.40</td>\n",
       "      <td>1.0</td>\n",
       "      <td>N</td>\n",
       "      <td>236</td>\n",
       "      <td>75</td>\n",
       "      <td>1.0</td>\n",
       "      <td>6.00</td>\n",
       "      <td>2.5</td>\n",
       "    </tr>\n",
       "    <tr>\n",
       "      <th>4</th>\n",
       "      <td>1.0</td>\n",
       "      <td>2020-06-26 16:00:36</td>\n",
       "      <td>2020-06-26 16:02:28</td>\n",
       "      <td>1.0</td>\n",
       "      <td>0.60</td>\n",
       "      <td>1.0</td>\n",
       "      <td>N</td>\n",
       "      <td>186</td>\n",
       "      <td>90</td>\n",
       "      <td>2.0</td>\n",
       "      <td>4.00</td>\n",
       "      <td>2.5</td>\n",
       "    </tr>\n",
       "    <tr>\n",
       "      <th>...</th>\n",
       "      <td>...</td>\n",
       "      <td>...</td>\n",
       "      <td>...</td>\n",
       "      <td>...</td>\n",
       "      <td>...</td>\n",
       "      <td>...</td>\n",
       "      <td>...</td>\n",
       "      <td>...</td>\n",
       "      <td>...</td>\n",
       "      <td>...</td>\n",
       "      <td>...</td>\n",
       "      <td>...</td>\n",
       "    </tr>\n",
       "    <tr>\n",
       "      <th>59995</th>\n",
       "      <td>1.0</td>\n",
       "      <td>2020-06-25 17:49:12</td>\n",
       "      <td>2020-06-25 17:54:26</td>\n",
       "      <td>1.0</td>\n",
       "      <td>1.70</td>\n",
       "      <td>1.0</td>\n",
       "      <td>N</td>\n",
       "      <td>229</td>\n",
       "      <td>107</td>\n",
       "      <td>1.0</td>\n",
       "      <td>7.00</td>\n",
       "      <td>2.5</td>\n",
       "    </tr>\n",
       "    <tr>\n",
       "      <th>59996</th>\n",
       "      <td>2.0</td>\n",
       "      <td>2020-06-04 11:55:05</td>\n",
       "      <td>2020-06-04 12:05:04</td>\n",
       "      <td>1.0</td>\n",
       "      <td>2.36</td>\n",
       "      <td>1.0</td>\n",
       "      <td>N</td>\n",
       "      <td>79</td>\n",
       "      <td>186</td>\n",
       "      <td>2.0</td>\n",
       "      <td>9.50</td>\n",
       "      <td>2.5</td>\n",
       "    </tr>\n",
       "    <tr>\n",
       "      <th>59997</th>\n",
       "      <td>1.0</td>\n",
       "      <td>2020-06-21 21:26:45</td>\n",
       "      <td>2020-06-21 21:32:33</td>\n",
       "      <td>1.0</td>\n",
       "      <td>1.40</td>\n",
       "      <td>1.0</td>\n",
       "      <td>N</td>\n",
       "      <td>186</td>\n",
       "      <td>233</td>\n",
       "      <td>1.0</td>\n",
       "      <td>6.50</td>\n",
       "      <td>2.5</td>\n",
       "    </tr>\n",
       "    <tr>\n",
       "      <th>59998</th>\n",
       "      <td>2.0</td>\n",
       "      <td>2020-06-27 17:08:27</td>\n",
       "      <td>2020-06-27 17:15:33</td>\n",
       "      <td>2.0</td>\n",
       "      <td>3.18</td>\n",
       "      <td>1.0</td>\n",
       "      <td>N</td>\n",
       "      <td>262</td>\n",
       "      <td>233</td>\n",
       "      <td>1.0</td>\n",
       "      <td>11.00</td>\n",
       "      <td>2.5</td>\n",
       "    </tr>\n",
       "    <tr>\n",
       "      <th>59999</th>\n",
       "      <td>1.0</td>\n",
       "      <td>2020-06-06 13:15:27</td>\n",
       "      <td>2020-06-06 13:20:02</td>\n",
       "      <td>1.0</td>\n",
       "      <td>0.70</td>\n",
       "      <td>1.0</td>\n",
       "      <td>N</td>\n",
       "      <td>239</td>\n",
       "      <td>142</td>\n",
       "      <td>1.0</td>\n",
       "      <td>5.00</td>\n",
       "      <td>2.5</td>\n",
       "    </tr>\n",
       "  </tbody>\n",
       "</table>\n",
       "<p>60000 rows × 12 columns</p>\n",
       "</div>"
      ],
      "text/plain": [
       "       VendorID tpep_pickup_datetime tpep_dropoff_datetime  passenger_count  \\\n",
       "0           2.0  2020-06-10 13:36:49   2020-06-10 13:51:08              1.0   \n",
       "1           2.0  2020-06-13 06:19:00   2020-06-13 06:37:00              1.0   \n",
       "2           2.0  2020-06-20 07:59:23   2020-06-20 08:05:39              1.0   \n",
       "3           1.0  2020-06-27 15:11:32   2020-06-27 15:15:02              1.0   \n",
       "4           1.0  2020-06-26 16:00:36   2020-06-26 16:02:28              1.0   \n",
       "...         ...                  ...                   ...              ...   \n",
       "59995       1.0  2020-06-25 17:49:12   2020-06-25 17:54:26              1.0   \n",
       "59996       2.0  2020-06-04 11:55:05   2020-06-04 12:05:04              1.0   \n",
       "59997       1.0  2020-06-21 21:26:45   2020-06-21 21:32:33              1.0   \n",
       "59998       2.0  2020-06-27 17:08:27   2020-06-27 17:15:33              2.0   \n",
       "59999       1.0  2020-06-06 13:15:27   2020-06-06 13:20:02              1.0   \n",
       "\n",
       "       trip_distance  RatecodeID store_and_fwd_flag  PULocationID  \\\n",
       "0               2.73         1.0                  N           224   \n",
       "1              11.58         1.0                NaN            56   \n",
       "2               2.05         1.0                  N            79   \n",
       "3               1.40         1.0                  N           236   \n",
       "4               0.60         1.0                  N           186   \n",
       "...              ...         ...                ...           ...   \n",
       "59995           1.70         1.0                  N           229   \n",
       "59996           2.36         1.0                  N            79   \n",
       "59997           1.40         1.0                  N           186   \n",
       "59998           3.18         1.0                  N           262   \n",
       "59999           0.70         1.0                  N           239   \n",
       "\n",
       "       DOLocationID  payment_type  fare_amount  congestion_surcharge  \n",
       "0               148           2.0        12.00                   2.5  \n",
       "1                42           NaN        28.81                   0.0  \n",
       "2                68           2.0         8.00                   2.5  \n",
       "3                75           1.0         6.00                   2.5  \n",
       "4                90           2.0         4.00                   2.5  \n",
       "...             ...           ...          ...                   ...  \n",
       "59995           107           1.0         7.00                   2.5  \n",
       "59996           186           2.0         9.50                   2.5  \n",
       "59997           233           1.0         6.50                   2.5  \n",
       "59998           233           1.0        11.00                   2.5  \n",
       "59999           142           1.0         5.00                   2.5  \n",
       "\n",
       "[60000 rows x 12 columns]"
      ]
     },
     "execution_count": 18,
     "metadata": {},
     "output_type": "execute_result"
    }
   ],
   "source": [
    "df['RatecodeID'].fillna(1, inplace=True)   #replacing the missing values with 1\n",
    "df"
   ]
  },
  {
   "cell_type": "code",
   "execution_count": 19,
   "id": "e44bafdb",
   "metadata": {},
   "outputs": [
    {
     "data": {
      "text/plain": [
       "<AxesSubplot:xlabel='payment_type', ylabel='count'>"
      ]
     },
     "execution_count": 19,
     "metadata": {},
     "output_type": "execute_result"
    },
    {
     "data": {
      "image/png": "[encoded data removed]",
      "text/plain": [
       "<Figure size 432x288 with 1 Axes>"
      ]
     },
     "metadata": {
      "needs_background": "light"
     },
     "output_type": "display_data"
    }
   ],
   "source": [
    "#lets try to fill the missing values of RatecodeID\n",
    "sns.countplot(x=\"payment_type\",data=df) #1 is of very high majority"
   ]
  },
  {
   "cell_type": "code",
   "execution_count": 20,
   "id": "d7e06f31",
   "metadata": {},
   "outputs": [
    {
     "data": {
      "text/html": [
       "<div>\n",
       "<style scoped>\n",
       "    .dataframe tbody tr th:only-of-type {\n",
       "        vertical-align: middle;\n",
       "    }\n",
       "\n",
       "    .dataframe tbody tr th {\n",
       "        vertical-align: top;\n",
       "    }\n",
       "\n",
       "    .dataframe thead th {\n",
       "        text-align: right;\n",
       "    }\n",
       "</style>\n",
       "<table border=\"1\" class=\"dataframe\">\n",
       "  <thead>\n",
       "    <tr style=\"text-align: right;\">\n",
       "      <th></th>\n",
       "      <th>VendorID</th>\n",
       "      <th>tpep_pickup_datetime</th>\n",
       "      <th>tpep_dropoff_datetime</th>\n",
       "      <th>passenger_count</th>\n",
       "      <th>trip_distance</th>\n",
       "      <th>RatecodeID</th>\n",
       "      <th>store_and_fwd_flag</th>\n",
       "      <th>PULocationID</th>\n",
       "      <th>DOLocationID</th>\n",
       "      <th>payment_type</th>\n",
       "      <th>fare_amount</th>\n",
       "      <th>congestion_surcharge</th>\n",
       "    </tr>\n",
       "  </thead>\n",
       "  <tbody>\n",
       "    <tr>\n",
       "      <th>0</th>\n",
       "      <td>2.0</td>\n",
       "      <td>2020-06-10 13:36:49</td>\n",
       "      <td>2020-06-10 13:51:08</td>\n",
       "      <td>1.0</td>\n",
       "      <td>2.73</td>\n",
       "      <td>1.0</td>\n",
       "      <td>N</td>\n",
       "      <td>224</td>\n",
       "      <td>148</td>\n",
       "      <td>2.0</td>\n",
       "      <td>12.00</td>\n",
       "      <td>2.5</td>\n",
       "    </tr>\n",
       "    <tr>\n",
       "      <th>1</th>\n",
       "      <td>2.0</td>\n",
       "      <td>2020-06-13 06:19:00</td>\n",
       "      <td>2020-06-13 06:37:00</td>\n",
       "      <td>1.0</td>\n",
       "      <td>11.58</td>\n",
       "      <td>1.0</td>\n",
       "      <td>NaN</td>\n",
       "      <td>56</td>\n",
       "      <td>42</td>\n",
       "      <td>1.0</td>\n",
       "      <td>28.81</td>\n",
       "      <td>0.0</td>\n",
       "    </tr>\n",
       "    <tr>\n",
       "      <th>2</th>\n",
       "      <td>2.0</td>\n",
       "      <td>2020-06-20 07:59:23</td>\n",
       "      <td>2020-06-20 08:05:39</td>\n",
       "      <td>1.0</td>\n",
       "      <td>2.05</td>\n",
       "      <td>1.0</td>\n",
       "      <td>N</td>\n",
       "      <td>79</td>\n",
       "      <td>68</td>\n",
       "      <td>2.0</td>\n",
       "      <td>8.00</td>\n",
       "      <td>2.5</td>\n",
       "    </tr>\n",
       "    <tr>\n",
       "      <th>3</th>\n",
       "      <td>1.0</td>\n",
       "      <td>2020-06-27 15:11:32</td>\n",
       "      <td>2020-06-27 15:15:02</td>\n",
       "      <td>1.0</td>\n",
       "      <td>1.40</td>\n",
       "      <td>1.0</td>\n",
       "      <td>N</td>\n",
       "      <td>236</td>\n",
       "      <td>75</td>\n",
       "      <td>1.0</td>\n",
       "      <td>6.00</td>\n",
       "      <td>2.5</td>\n",
       "    </tr>\n",
       "    <tr>\n",
       "      <th>4</th>\n",
       "      <td>1.0</td>\n",
       "      <td>2020-06-26 16:00:36</td>\n",
       "      <td>2020-06-26 16:02:28</td>\n",
       "      <td>1.0</td>\n",
       "      <td>0.60</td>\n",
       "      <td>1.0</td>\n",
       "      <td>N</td>\n",
       "      <td>186</td>\n",
       "      <td>90</td>\n",
       "      <td>2.0</td>\n",
       "      <td>4.00</td>\n",
       "      <td>2.5</td>\n",
       "    </tr>\n",
       "    <tr>\n",
       "      <th>...</th>\n",
       "      <td>...</td>\n",
       "      <td>...</td>\n",
       "      <td>...</td>\n",
       "      <td>...</td>\n",
       "      <td>...</td>\n",
       "      <td>...</td>\n",
       "      <td>...</td>\n",
       "      <td>...</td>\n",
       "      <td>...</td>\n",
       "      <td>...</td>\n",
       "      <td>...</td>\n",
       "      <td>...</td>\n",
       "    </tr>\n",
       "    <tr>\n",
       "      <th>59995</th>\n",
       "      <td>1.0</td>\n",
       "      <td>2020-06-25 17:49:12</td>\n",
       "      <td>2020-06-25 17:54:26</td>\n",
       "      <td>1.0</td>\n",
       "      <td>1.70</td>\n",
       "      <td>1.0</td>\n",
       "      <td>N</td>\n",
       "      <td>229</td>\n",
       "      <td>107</td>\n",
       "      <td>1.0</td>\n",
       "      <td>7.00</td>\n",
       "      <td>2.5</td>\n",
       "    </tr>\n",
       "    <tr>\n",
       "      <th>59996</th>\n",
       "      <td>2.0</td>\n",
       "      <td>2020-06-04 11:55:05</td>\n",
       "      <td>2020-06-04 12:05:04</td>\n",
       "      <td>1.0</td>\n",
       "      <td>2.36</td>\n",
       "      <td>1.0</td>\n",
       "      <td>N</td>\n",
       "      <td>79</td>\n",
       "      <td>186</td>\n",
       "      <td>2.0</td>\n",
       "      <td>9.50</td>\n",
       "      <td>2.5</td>\n",
       "    </tr>\n",
       "    <tr>\n",
       "      <th>59997</th>\n",
       "      <td>1.0</td>\n",
       "      <td>2020-06-21 21:26:45</td>\n",
       "      <td>2020-06-21 21:32:33</td>\n",
       "      <td>1.0</td>\n",
       "      <td>1.40</td>\n",
       "      <td>1.0</td>\n",
       "      <td>N</td>\n",
       "      <td>186</td>\n",
       "      <td>233</td>\n",
       "      <td>1.0</td>\n",
       "      <td>6.50</td>\n",
       "      <td>2.5</td>\n",
       "    </tr>\n",
       "    <tr>\n",
       "      <th>59998</th>\n",
       "      <td>2.0</td>\n",
       "      <td>2020-06-27 17:08:27</td>\n",
       "      <td>2020-06-27 17:15:33</td>\n",
       "      <td>2.0</td>\n",
       "      <td>3.18</td>\n",
       "      <td>1.0</td>\n",
       "      <td>N</td>\n",
       "      <td>262</td>\n",
       "      <td>233</td>\n",
       "      <td>1.0</td>\n",
       "      <td>11.00</td>\n",
       "      <td>2.5</td>\n",
       "    </tr>\n",
       "    <tr>\n",
       "      <th>59999</th>\n",
       "      <td>1.0</td>\n",
       "      <td>2020-06-06 13:15:27</td>\n",
       "      <td>2020-06-06 13:20:02</td>\n",
       "      <td>1.0</td>\n",
       "      <td>0.70</td>\n",
       "      <td>1.0</td>\n",
       "      <td>N</td>\n",
       "      <td>239</td>\n",
       "      <td>142</td>\n",
       "      <td>1.0</td>\n",
       "      <td>5.00</td>\n",
       "      <td>2.5</td>\n",
       "    </tr>\n",
       "  </tbody>\n",
       "</table>\n",
       "<p>60000 rows × 12 columns</p>\n",
       "</div>"
      ],
      "text/plain": [
       "       VendorID tpep_pickup_datetime tpep_dropoff_datetime  passenger_count  \\\n",
       "0           2.0  2020-06-10 13:36:49   2020-06-10 13:51:08              1.0   \n",
       "1           2.0  2020-06-13 06:19:00   2020-06-13 06:37:00              1.0   \n",
       "2           2.0  2020-06-20 07:59:23   2020-06-20 08:05:39              1.0   \n",
       "3           1.0  2020-06-27 15:11:32   2020-06-27 15:15:02              1.0   \n",
       "4           1.0  2020-06-26 16:00:36   2020-06-26 16:02:28              1.0   \n",
       "...         ...                  ...                   ...              ...   \n",
       "59995       1.0  2020-06-25 17:49:12   2020-06-25 17:54:26              1.0   \n",
       "59996       2.0  2020-06-04 11:55:05   2020-06-04 12:05:04              1.0   \n",
       "59997       1.0  2020-06-21 21:26:45   2020-06-21 21:32:33              1.0   \n",
       "59998       2.0  2020-06-27 17:08:27   2020-06-27 17:15:33              2.0   \n",
       "59999       1.0  2020-06-06 13:15:27   2020-06-06 13:20:02              1.0   \n",
       "\n",
       "       trip_distance  RatecodeID store_and_fwd_flag  PULocationID  \\\n",
       "0               2.73         1.0                  N           224   \n",
       "1              11.58         1.0                NaN            56   \n",
       "2               2.05         1.0                  N            79   \n",
       "3               1.40         1.0                  N           236   \n",
       "4               0.60         1.0                  N           186   \n",
       "...              ...         ...                ...           ...   \n",
       "59995           1.70         1.0                  N           229   \n",
       "59996           2.36         1.0                  N            79   \n",
       "59997           1.40         1.0                  N           186   \n",
       "59998           3.18         1.0                  N           262   \n",
       "59999           0.70         1.0                  N           239   \n",
       "\n",
       "       DOLocationID  payment_type  fare_amount  congestion_surcharge  \n",
       "0               148           2.0        12.00                   2.5  \n",
       "1                42           1.0        28.81                   0.0  \n",
       "2                68           2.0         8.00                   2.5  \n",
       "3                75           1.0         6.00                   2.5  \n",
       "4                90           2.0         4.00                   2.5  \n",
       "...             ...           ...          ...                   ...  \n",
       "59995           107           1.0         7.00                   2.5  \n",
       "59996           186           2.0         9.50                   2.5  \n",
       "59997           233           1.0         6.50                   2.5  \n",
       "59998           233           1.0        11.00                   2.5  \n",
       "59999           142           1.0         5.00                   2.5  \n",
       "\n",
       "[60000 rows x 12 columns]"
      ]
     },
     "execution_count": 20,
     "metadata": {},
     "output_type": "execute_result"
    }
   ],
   "source": [
    "df['payment_type'].fillna(1, inplace=True) #replacing the missing values with 1\n",
    "df"
   ]
  },
  {
   "cell_type": "code",
   "execution_count": 21,
   "id": "e0e575ae",
   "metadata": {},
   "outputs": [
    {
     "data": {
      "text/plain": [
       "<AxesSubplot:xlabel='store_and_fwd_flag', ylabel='count'>"
      ]
     },
     "execution_count": 21,
     "metadata": {},
     "output_type": "execute_result"
    },
    {
     "data": {
      "image/png": "[encoded data removed]",
      "text/plain": [
       "<Figure size 432x288 with 1 Axes>"
      ]
     },
     "metadata": {
      "needs_background": "light"
     },
     "output_type": "display_data"
    }
   ],
   "source": [
    "#lets try to fill the missing values of RatecodeID\n",
    "sns.countplot(x=\"store_and_fwd_flag\",data=df) #\"N\" is of very high majority"
   ]
  },
  {
   "cell_type": "code",
   "execution_count": 22,
   "id": "5234c046",
   "metadata": {},
   "outputs": [
    {
     "data": {
      "text/html": [
       "<div>\n",
       "<style scoped>\n",
       "    .dataframe tbody tr th:only-of-type {\n",
       "        vertical-align: middle;\n",
       "    }\n",
       "\n",
       "    .dataframe tbody tr th {\n",
       "        vertical-align: top;\n",
       "    }\n",
       "\n",
       "    .dataframe thead th {\n",
       "        text-align: right;\n",
       "    }\n",
       "</style>\n",
       "<table border=\"1\" class=\"dataframe\">\n",
       "  <thead>\n",
       "    <tr style=\"text-align: right;\">\n",
       "      <th></th>\n",
       "      <th>VendorID</th>\n",
       "      <th>tpep_pickup_datetime</th>\n",
       "      <th>tpep_dropoff_datetime</th>\n",
       "      <th>passenger_count</th>\n",
       "      <th>trip_distance</th>\n",
       "      <th>RatecodeID</th>\n",
       "      <th>store_and_fwd_flag</th>\n",
       "      <th>PULocationID</th>\n",
       "      <th>DOLocationID</th>\n",
       "      <th>payment_type</th>\n",
       "      <th>fare_amount</th>\n",
       "      <th>congestion_surcharge</th>\n",
       "    </tr>\n",
       "  </thead>\n",
       "  <tbody>\n",
       "    <tr>\n",
       "      <th>0</th>\n",
       "      <td>2.0</td>\n",
       "      <td>2020-06-10 13:36:49</td>\n",
       "      <td>2020-06-10 13:51:08</td>\n",
       "      <td>1.0</td>\n",
       "      <td>2.73</td>\n",
       "      <td>1.0</td>\n",
       "      <td>N</td>\n",
       "      <td>224</td>\n",
       "      <td>148</td>\n",
       "      <td>2.0</td>\n",
       "      <td>12.00</td>\n",
       "      <td>2.5</td>\n",
       "    </tr>\n",
       "    <tr>\n",
       "      <th>1</th>\n",
       "      <td>2.0</td>\n",
       "      <td>2020-06-13 06:19:00</td>\n",
       "      <td>2020-06-13 06:37:00</td>\n",
       "      <td>1.0</td>\n",
       "      <td>11.58</td>\n",
       "      <td>1.0</td>\n",
       "      <td>N</td>\n",
       "      <td>56</td>\n",
       "      <td>42</td>\n",
       "      <td>1.0</td>\n",
       "      <td>28.81</td>\n",
       "      <td>0.0</td>\n",
       "    </tr>\n",
       "    <tr>\n",
       "      <th>2</th>\n",
       "      <td>2.0</td>\n",
       "      <td>2020-06-20 07:59:23</td>\n",
       "      <td>2020-06-20 08:05:39</td>\n",
       "      <td>1.0</td>\n",
       "      <td>2.05</td>\n",
       "      <td>1.0</td>\n",
       "      <td>N</td>\n",
       "      <td>79</td>\n",
       "      <td>68</td>\n",
       "      <td>2.0</td>\n",
       "      <td>8.00</td>\n",
       "      <td>2.5</td>\n",
       "    </tr>\n",
       "    <tr>\n",
       "      <th>3</th>\n",
       "      <td>1.0</td>\n",
       "      <td>2020-06-27 15:11:32</td>\n",
       "      <td>2020-06-27 15:15:02</td>\n",
       "      <td>1.0</td>\n",
       "      <td>1.40</td>\n",
       "      <td>1.0</td>\n",
       "      <td>N</td>\n",
       "      <td>236</td>\n",
       "      <td>75</td>\n",
       "      <td>1.0</td>\n",
       "      <td>6.00</td>\n",
       "      <td>2.5</td>\n",
       "    </tr>\n",
       "    <tr>\n",
       "      <th>4</th>\n",
       "      <td>1.0</td>\n",
       "      <td>2020-06-26 16:00:36</td>\n",
       "      <td>2020-06-26 16:02:28</td>\n",
       "      <td>1.0</td>\n",
       "      <td>0.60</td>\n",
       "      <td>1.0</td>\n",
       "      <td>N</td>\n",
       "      <td>186</td>\n",
       "      <td>90</td>\n",
       "      <td>2.0</td>\n",
       "      <td>4.00</td>\n",
       "      <td>2.5</td>\n",
       "    </tr>\n",
       "  </tbody>\n",
       "</table>\n",
       "</div>"
      ],
      "text/plain": [
       "   VendorID tpep_pickup_datetime tpep_dropoff_datetime  passenger_count  \\\n",
       "0       2.0  2020-06-10 13:36:49   2020-06-10 13:51:08              1.0   \n",
       "1       2.0  2020-06-13 06:19:00   2020-06-13 06:37:00              1.0   \n",
       "2       2.0  2020-06-20 07:59:23   2020-06-20 08:05:39              1.0   \n",
       "3       1.0  2020-06-27 15:11:32   2020-06-27 15:15:02              1.0   \n",
       "4       1.0  2020-06-26 16:00:36   2020-06-26 16:02:28              1.0   \n",
       "\n",
       "   trip_distance  RatecodeID store_and_fwd_flag  PULocationID  DOLocationID  \\\n",
       "0           2.73         1.0                  N           224           148   \n",
       "1          11.58         1.0                  N            56            42   \n",
       "2           2.05         1.0                  N            79            68   \n",
       "3           1.40         1.0                  N           236            75   \n",
       "4           0.60         1.0                  N           186            90   \n",
       "\n",
       "   payment_type  fare_amount  congestion_surcharge  \n",
       "0           2.0        12.00                   2.5  \n",
       "1           1.0        28.81                   0.0  \n",
       "2           2.0         8.00                   2.5  \n",
       "3           1.0         6.00                   2.5  \n",
       "4           2.0         4.00                   2.5  "
      ]
     },
     "execution_count": 22,
     "metadata": {},
     "output_type": "execute_result"
    }
   ],
   "source": [
    "from sklearn.impute import SimpleImputer\n",
    "\n",
    "imputer = SimpleImputer(missing_values=np.NaN, strategy='most_frequent')  #its seen that mean is better than median here..\n",
    " \n",
    "df.store_and_fwd_flag = imputer.fit_transform(df['store_and_fwd_flag'].values.reshape(-1,1))[:,0]\n",
    " \n",
    "df.head()       #replacing the missing values with the most repeting value i.e, \"N\""
   ]
  },
  {
   "cell_type": "code",
   "execution_count": 23,
   "id": "03448317",
   "metadata": {},
   "outputs": [
    {
     "data": {
      "text/html": [
       "<div>\n",
       "<style scoped>\n",
       "    .dataframe tbody tr th:only-of-type {\n",
       "        vertical-align: middle;\n",
       "    }\n",
       "\n",
       "    .dataframe tbody tr th {\n",
       "        vertical-align: top;\n",
       "    }\n",
       "\n",
       "    .dataframe thead th {\n",
       "        text-align: right;\n",
       "    }\n",
       "</style>\n",
       "<table border=\"1\" class=\"dataframe\">\n",
       "  <thead>\n",
       "    <tr style=\"text-align: right;\">\n",
       "      <th></th>\n",
       "      <th>Y</th>\n",
       "    </tr>\n",
       "  </thead>\n",
       "  <tbody>\n",
       "    <tr>\n",
       "      <th>0</th>\n",
       "      <td>0</td>\n",
       "    </tr>\n",
       "    <tr>\n",
       "      <th>1</th>\n",
       "      <td>0</td>\n",
       "    </tr>\n",
       "    <tr>\n",
       "      <th>2</th>\n",
       "      <td>0</td>\n",
       "    </tr>\n",
       "    <tr>\n",
       "      <th>3</th>\n",
       "      <td>0</td>\n",
       "    </tr>\n",
       "    <tr>\n",
       "      <th>4</th>\n",
       "      <td>0</td>\n",
       "    </tr>\n",
       "  </tbody>\n",
       "</table>\n",
       "</div>"
      ],
      "text/plain": [
       "   Y\n",
       "0  0\n",
       "1  0\n",
       "2  0\n",
       "3  0\n",
       "4  0"
      ]
     },
     "execution_count": 23,
     "metadata": {},
     "output_type": "execute_result"
    }
   ],
   "source": [
    "store_and_fwd_flag = pd.get_dummies(df[\"store_and_fwd_flag\"],drop_first=True)\n",
    "store_and_fwd_flag.head()     #converting categorical values to numerical using dummies"
   ]
  },
  {
   "cell_type": "code",
   "execution_count": 24,
   "id": "096e6a85",
   "metadata": {},
   "outputs": [],
   "source": [
    "df=pd.concat([df,store_and_fwd_flag],axis=1)                 # adding the dummy columns to the dataset\n",
    "df.drop([\"store_and_fwd_flag\"],axis=1,inplace=True)          # and removing the original column"
   ]
  },
  {
   "cell_type": "code",
   "execution_count": 25,
   "id": "0b194b89",
   "metadata": {},
   "outputs": [
    {
     "name": "stdout",
     "output_type": "stream",
     "text": [
      "<class 'pandas.core.frame.DataFrame'>\n",
      "RangeIndex: 60000 entries, 0 to 59999\n",
      "Data columns (total 10 columns):\n",
      " #   Column                Non-Null Count  Dtype  \n",
      "---  ------                --------------  -----  \n",
      " 0   VendorID              60000 non-null  float64\n",
      " 1   passenger_count       60000 non-null  float64\n",
      " 2   trip_distance         60000 non-null  float64\n",
      " 3   RatecodeID            60000 non-null  float64\n",
      " 4   PULocationID          60000 non-null  int64  \n",
      " 5   DOLocationID          60000 non-null  int64  \n",
      " 6   payment_type          60000 non-null  float64\n",
      " 7   fare_amount           60000 non-null  float64\n",
      " 8   congestion_surcharge  60000 non-null  float64\n",
      " 9   Y                     60000 non-null  uint8  \n",
      "dtypes: float64(7), int64(2), uint8(1)\n",
      "memory usage: 4.2 MB\n"
     ]
    }
   ],
   "source": [
    "df.drop([\"tpep_pickup_datetime\",\"tpep_dropoff_datetime\"],axis=1,inplace=True)\n",
    "df.info()   #Dropping the time and date columns"
   ]
  },
  {
   "cell_type": "code",
   "execution_count": 26,
   "id": "6c6163f4",
   "metadata": {},
   "outputs": [
    {
     "data": {
      "text/html": [
       "<div>\n",
       "<style scoped>\n",
       "    .dataframe tbody tr th:only-of-type {\n",
       "        vertical-align: middle;\n",
       "    }\n",
       "\n",
       "    .dataframe tbody tr th {\n",
       "        vertical-align: top;\n",
       "    }\n",
       "\n",
       "    .dataframe thead th {\n",
       "        text-align: right;\n",
       "    }\n",
       "</style>\n",
       "<table border=\"1\" class=\"dataframe\">\n",
       "  <thead>\n",
       "    <tr style=\"text-align: right;\">\n",
       "      <th></th>\n",
       "      <th>VendorID</th>\n",
       "      <th>passenger_count</th>\n",
       "      <th>trip_distance</th>\n",
       "      <th>RatecodeID</th>\n",
       "      <th>PULocationID</th>\n",
       "      <th>DOLocationID</th>\n",
       "      <th>payment_type</th>\n",
       "      <th>fare_amount</th>\n",
       "      <th>congestion_surcharge</th>\n",
       "      <th>Y</th>\n",
       "    </tr>\n",
       "  </thead>\n",
       "  <tbody>\n",
       "    <tr>\n",
       "      <th>VendorID</th>\n",
       "      <td>1.000000</td>\n",
       "      <td>0.190165</td>\n",
       "      <td>0.139594</td>\n",
       "      <td>-0.001001</td>\n",
       "      <td>-0.045867</td>\n",
       "      <td>-0.025274</td>\n",
       "      <td>-0.059381</td>\n",
       "      <td>0.101858</td>\n",
       "      <td>-0.096154</td>\n",
       "      <td>-0.110771</td>\n",
       "    </tr>\n",
       "    <tr>\n",
       "      <th>passenger_count</th>\n",
       "      <td>0.190165</td>\n",
       "      <td>1.000000</td>\n",
       "      <td>-0.026953</td>\n",
       "      <td>-0.011751</td>\n",
       "      <td>0.005741</td>\n",
       "      <td>0.008302</td>\n",
       "      <td>0.017751</td>\n",
       "      <td>-0.041056</td>\n",
       "      <td>0.047953</td>\n",
       "      <td>-0.020219</td>\n",
       "    </tr>\n",
       "    <tr>\n",
       "      <th>trip_distance</th>\n",
       "      <td>0.139594</td>\n",
       "      <td>-0.026953</td>\n",
       "      <td>1.000000</td>\n",
       "      <td>0.043137</td>\n",
       "      <td>-0.112152</td>\n",
       "      <td>-0.092232</td>\n",
       "      <td>-0.108706</td>\n",
       "      <td>0.867704</td>\n",
       "      <td>-0.280979</td>\n",
       "      <td>-0.004088</td>\n",
       "    </tr>\n",
       "    <tr>\n",
       "      <th>RatecodeID</th>\n",
       "      <td>-0.001001</td>\n",
       "      <td>-0.011751</td>\n",
       "      <td>0.043137</td>\n",
       "      <td>1.000000</td>\n",
       "      <td>0.004750</td>\n",
       "      <td>0.020347</td>\n",
       "      <td>0.001283</td>\n",
       "      <td>0.080003</td>\n",
       "      <td>-0.046133</td>\n",
       "      <td>0.044460</td>\n",
       "    </tr>\n",
       "    <tr>\n",
       "      <th>PULocationID</th>\n",
       "      <td>-0.045867</td>\n",
       "      <td>0.005741</td>\n",
       "      <td>-0.112152</td>\n",
       "      <td>0.004750</td>\n",
       "      <td>1.000000</td>\n",
       "      <td>0.125250</td>\n",
       "      <td>-0.016847</td>\n",
       "      <td>-0.120242</td>\n",
       "      <td>0.236174</td>\n",
       "      <td>0.000156</td>\n",
       "    </tr>\n",
       "    <tr>\n",
       "      <th>DOLocationID</th>\n",
       "      <td>-0.025274</td>\n",
       "      <td>0.008302</td>\n",
       "      <td>-0.092232</td>\n",
       "      <td>0.020347</td>\n",
       "      <td>0.125250</td>\n",
       "      <td>1.000000</td>\n",
       "      <td>-0.017914</td>\n",
       "      <td>-0.094330</td>\n",
       "      <td>0.177673</td>\n",
       "      <td>0.008838</td>\n",
       "    </tr>\n",
       "    <tr>\n",
       "      <th>payment_type</th>\n",
       "      <td>-0.059381</td>\n",
       "      <td>0.017751</td>\n",
       "      <td>-0.108706</td>\n",
       "      <td>0.001283</td>\n",
       "      <td>-0.016847</td>\n",
       "      <td>-0.017914</td>\n",
       "      <td>1.000000</td>\n",
       "      <td>-0.151292</td>\n",
       "      <td>-0.064654</td>\n",
       "      <td>0.039811</td>\n",
       "    </tr>\n",
       "    <tr>\n",
       "      <th>fare_amount</th>\n",
       "      <td>0.101858</td>\n",
       "      <td>-0.041056</td>\n",
       "      <td>0.867704</td>\n",
       "      <td>0.080003</td>\n",
       "      <td>-0.120242</td>\n",
       "      <td>-0.094330</td>\n",
       "      <td>-0.151292</td>\n",
       "      <td>1.000000</td>\n",
       "      <td>-0.321883</td>\n",
       "      <td>0.007861</td>\n",
       "    </tr>\n",
       "    <tr>\n",
       "      <th>congestion_surcharge</th>\n",
       "      <td>-0.096154</td>\n",
       "      <td>0.047953</td>\n",
       "      <td>-0.280979</td>\n",
       "      <td>-0.046133</td>\n",
       "      <td>0.236174</td>\n",
       "      <td>0.177673</td>\n",
       "      <td>-0.064654</td>\n",
       "      <td>-0.321883</td>\n",
       "      <td>1.000000</td>\n",
       "      <td>-0.014866</td>\n",
       "    </tr>\n",
       "    <tr>\n",
       "      <th>Y</th>\n",
       "      <td>-0.110771</td>\n",
       "      <td>-0.020219</td>\n",
       "      <td>-0.004088</td>\n",
       "      <td>0.044460</td>\n",
       "      <td>0.000156</td>\n",
       "      <td>0.008838</td>\n",
       "      <td>0.039811</td>\n",
       "      <td>0.007861</td>\n",
       "      <td>-0.014866</td>\n",
       "      <td>1.000000</td>\n",
       "    </tr>\n",
       "  </tbody>\n",
       "</table>\n",
       "</div>"
      ],
      "text/plain": [
       "                      VendorID  passenger_count  trip_distance  RatecodeID  \\\n",
       "VendorID              1.000000         0.190165       0.139594   -0.001001   \n",
       "passenger_count       0.190165         1.000000      -0.026953   -0.011751   \n",
       "trip_distance         0.139594        -0.026953       1.000000    0.043137   \n",
       "RatecodeID           -0.001001        -0.011751       0.043137    1.000000   \n",
       "PULocationID         -0.045867         0.005741      -0.112152    0.004750   \n",
       "DOLocationID         -0.025274         0.008302      -0.092232    0.020347   \n",
       "payment_type         -0.059381         0.017751      -0.108706    0.001283   \n",
       "fare_amount           0.101858        -0.041056       0.867704    0.080003   \n",
       "congestion_surcharge -0.096154         0.047953      -0.280979   -0.046133   \n",
       "Y                    -0.110771        -0.020219      -0.004088    0.044460   \n",
       "\n",
       "                      PULocationID  DOLocationID  payment_type  fare_amount  \\\n",
       "VendorID                 -0.045867     -0.025274     -0.059381     0.101858   \n",
       "passenger_count           0.005741      0.008302      0.017751    -0.041056   \n",
       "trip_distance            -0.112152     -0.092232     -0.108706     0.867704   \n",
       "RatecodeID                0.004750      0.020347      0.001283     0.080003   \n",
       "PULocationID              1.000000      0.125250     -0.016847    -0.120242   \n",
       "DOLocationID              0.125250      1.000000     -0.017914    -0.094330   \n",
       "payment_type             -0.016847     -0.017914      1.000000    -0.151292   \n",
       "fare_amount              -0.120242     -0.094330     -0.151292     1.000000   \n",
       "congestion_surcharge      0.236174      0.177673     -0.064654    -0.321883   \n",
       "Y                         0.000156      0.008838      0.039811     0.007861   \n",
       "\n",
       "                      congestion_surcharge         Y  \n",
       "VendorID                         -0.096154 -0.110771  \n",
       "passenger_count                   0.047953 -0.020219  \n",
       "trip_distance                    -0.280979 -0.004088  \n",
       "RatecodeID                       -0.046133  0.044460  \n",
       "PULocationID                      0.236174  0.000156  \n",
       "DOLocationID                      0.177673  0.008838  \n",
       "payment_type                     -0.064654  0.039811  \n",
       "fare_amount                      -0.321883  0.007861  \n",
       "congestion_surcharge              1.000000 -0.014866  \n",
       "Y                                -0.014866  1.000000  "
      ]
     },
     "execution_count": 26,
     "metadata": {},
     "output_type": "execute_result"
    }
   ],
   "source": [
    "corr = df.corr()\n",
    "corr  #  no correlation between independent variables is more than 0.8,so no need to drop any variable"
   ]
  },
  {
   "cell_type": "code",
   "execution_count": 27,
   "id": "16810675",
   "metadata": {
    "scrolled": true
   },
   "outputs": [
    {
     "data": {
      "text/plain": [
       "<AxesSubplot:>"
      ]
     },
     "execution_count": 27,
     "metadata": {},
     "output_type": "execute_result"
    },
    {
     "data": {
      "image/png": "[encoded data removed]",
      "text/plain": [
       "<Figure size 432x288 with 2 Axes>"
      ]
     },
     "metadata": {
      "needs_background": "light"
     },
     "output_type": "display_data"
    }
   ],
   "source": [
    "sns.heatmap(corr,annot=True)"
   ]
  },
  {
   "cell_type": "markdown",
   "id": "d059ecf6",
   "metadata": {},
   "source": [
    "# Loading the test data"
   ]
  },
  {
   "cell_type": "code",
   "execution_count": 28,
   "id": "d85afdc8",
   "metadata": {},
   "outputs": [
    {
     "name": "stdout",
     "output_type": "stream",
     "text": [
      "<class 'pandas.core.frame.DataFrame'>\n",
      "RangeIndex: 10000 entries, 0 to 9999\n",
      "Data columns (total 11 columns):\n",
      " #   Column                 Non-Null Count  Dtype  \n",
      "---  ------                 --------------  -----  \n",
      " 0   VendorID               9071 non-null   float64\n",
      " 1   tpep_pickup_datetime   10000 non-null  object \n",
      " 2   tpep_dropoff_datetime  10000 non-null  object \n",
      " 3   passenger_count        9071 non-null   float64\n",
      " 4   trip_distance          10000 non-null  float64\n",
      " 5   RatecodeID             9071 non-null   float64\n",
      " 6   store_and_fwd_flag     9071 non-null   object \n",
      " 7   PULocationID           10000 non-null  int64  \n",
      " 8   DOLocationID           10000 non-null  int64  \n",
      " 9   payment_type           9071 non-null   float64\n",
      " 10  congestion_surcharge   10000 non-null  float64\n",
      "dtypes: float64(6), int64(2), object(3)\n",
      "memory usage: 859.5+ KB\n"
     ]
    }
   ],
   "source": [
    "df1=pd.read_csv('test_data_iitm.csv')\n",
    "df1.info() "
   ]
  },
  {
   "cell_type": "code",
   "execution_count": 29,
   "id": "5f12133a",
   "metadata": {},
   "outputs": [
    {
     "name": "stdout",
     "output_type": "stream",
     "text": [
      "<class 'pandas.core.frame.DataFrame'>\n",
      "RangeIndex: 10000 entries, 0 to 9999\n",
      "Data columns (total 9 columns):\n",
      " #   Column                Non-Null Count  Dtype  \n",
      "---  ------                --------------  -----  \n",
      " 0   VendorID              9071 non-null   float64\n",
      " 1   passenger_count       9071 non-null   float64\n",
      " 2   trip_distance         10000 non-null  float64\n",
      " 3   RatecodeID            9071 non-null   float64\n",
      " 4   store_and_fwd_flag    9071 non-null   object \n",
      " 5   PULocationID          10000 non-null  int64  \n",
      " 6   DOLocationID          10000 non-null  int64  \n",
      " 7   payment_type          9071 non-null   float64\n",
      " 8   congestion_surcharge  10000 non-null  float64\n",
      "dtypes: float64(6), int64(2), object(1)\n",
      "memory usage: 703.2+ KB\n"
     ]
    }
   ],
   "source": [
    "df1.drop([\"tpep_pickup_datetime\",\"tpep_dropoff_datetime\"],axis=1,inplace=True)\n",
    "df1.info()                    #Dropping the time and date columns"
   ]
  },
  {
   "cell_type": "markdown",
   "id": "2c76542d",
   "metadata": {},
   "source": [
    "# Cleaning and visualising the testing data"
   ]
  },
  {
   "cell_type": "code",
   "execution_count": 30,
   "id": "2734ea1b",
   "metadata": {},
   "outputs": [
    {
     "name": "stderr",
     "output_type": "stream",
     "text": [
      "C:\\Users\\DELL\\anaconda3\\lib\\site-packages\\seaborn\\distributions.py:2557: FutureWarning: `distplot` is a deprecated function and will be removed in a future version. Please adapt your code to use either `displot` (a figure-level function with similar flexibility) or `histplot` (an axes-level function for histograms).\n",
      "  warnings.warn(msg, FutureWarning)\n"
     ]
    },
    {
     "data": {
      "text/plain": [
       "<AxesSubplot:xlabel='VendorID', ylabel='Density'>"
      ]
     },
     "execution_count": 30,
     "metadata": {},
     "output_type": "execute_result"
    },
    {
     "data": {
      "image/png": "[encoded data removed]",
      "text/plain": [
       "<Figure size 432x288 with 1 Axes>"
      ]
     },
     "metadata": {
      "needs_background": "light"
     },
     "output_type": "display_data"
    }
   ],
   "source": [
    "#lets try to fill the missing values of vendor id\n",
    "sns.distplot(df1.VendorID )                      # looks like vendor id 2 is of higher density "
   ]
  },
  {
   "cell_type": "code",
   "execution_count": 31,
   "id": "5996f687",
   "metadata": {},
   "outputs": [
    {
     "data": {
      "text/html": [
       "<div>\n",
       "<style scoped>\n",
       "    .dataframe tbody tr th:only-of-type {\n",
       "        vertical-align: middle;\n",
       "    }\n",
       "\n",
       "    .dataframe tbody tr th {\n",
       "        vertical-align: top;\n",
       "    }\n",
       "\n",
       "    .dataframe thead th {\n",
       "        text-align: right;\n",
       "    }\n",
       "</style>\n",
       "<table border=\"1\" class=\"dataframe\">\n",
       "  <thead>\n",
       "    <tr style=\"text-align: right;\">\n",
       "      <th></th>\n",
       "      <th>VendorID</th>\n",
       "      <th>passenger_count</th>\n",
       "      <th>trip_distance</th>\n",
       "      <th>RatecodeID</th>\n",
       "      <th>store_and_fwd_flag</th>\n",
       "      <th>PULocationID</th>\n",
       "      <th>DOLocationID</th>\n",
       "      <th>payment_type</th>\n",
       "      <th>congestion_surcharge</th>\n",
       "    </tr>\n",
       "  </thead>\n",
       "  <tbody>\n",
       "    <tr>\n",
       "      <th>0</th>\n",
       "      <td>2.0</td>\n",
       "      <td>1.0</td>\n",
       "      <td>1.66</td>\n",
       "      <td>1.0</td>\n",
       "      <td>N</td>\n",
       "      <td>48</td>\n",
       "      <td>90</td>\n",
       "      <td>1.0</td>\n",
       "      <td>2.5</td>\n",
       "    </tr>\n",
       "    <tr>\n",
       "      <th>1</th>\n",
       "      <td>2.0</td>\n",
       "      <td>3.0</td>\n",
       "      <td>1.50</td>\n",
       "      <td>1.0</td>\n",
       "      <td>N</td>\n",
       "      <td>48</td>\n",
       "      <td>246</td>\n",
       "      <td>2.0</td>\n",
       "      <td>2.5</td>\n",
       "    </tr>\n",
       "    <tr>\n",
       "      <th>2</th>\n",
       "      <td>1.0</td>\n",
       "      <td>1.0</td>\n",
       "      <td>1.90</td>\n",
       "      <td>1.0</td>\n",
       "      <td>N</td>\n",
       "      <td>237</td>\n",
       "      <td>234</td>\n",
       "      <td>1.0</td>\n",
       "      <td>2.5</td>\n",
       "    </tr>\n",
       "    <tr>\n",
       "      <th>3</th>\n",
       "      <td>2.0</td>\n",
       "      <td>1.0</td>\n",
       "      <td>0.27</td>\n",
       "      <td>1.0</td>\n",
       "      <td>N</td>\n",
       "      <td>170</td>\n",
       "      <td>170</td>\n",
       "      <td>2.0</td>\n",
       "      <td>2.5</td>\n",
       "    </tr>\n",
       "    <tr>\n",
       "      <th>4</th>\n",
       "      <td>2.0</td>\n",
       "      <td>2.0</td>\n",
       "      <td>4.06</td>\n",
       "      <td>1.0</td>\n",
       "      <td>N</td>\n",
       "      <td>186</td>\n",
       "      <td>238</td>\n",
       "      <td>2.0</td>\n",
       "      <td>2.5</td>\n",
       "    </tr>\n",
       "    <tr>\n",
       "      <th>...</th>\n",
       "      <td>...</td>\n",
       "      <td>...</td>\n",
       "      <td>...</td>\n",
       "      <td>...</td>\n",
       "      <td>...</td>\n",
       "      <td>...</td>\n",
       "      <td>...</td>\n",
       "      <td>...</td>\n",
       "      <td>...</td>\n",
       "    </tr>\n",
       "    <tr>\n",
       "      <th>9995</th>\n",
       "      <td>1.0</td>\n",
       "      <td>1.0</td>\n",
       "      <td>0.00</td>\n",
       "      <td>1.0</td>\n",
       "      <td>N</td>\n",
       "      <td>74</td>\n",
       "      <td>74</td>\n",
       "      <td>3.0</td>\n",
       "      <td>0.0</td>\n",
       "    </tr>\n",
       "    <tr>\n",
       "      <th>9996</th>\n",
       "      <td>2.0</td>\n",
       "      <td>1.0</td>\n",
       "      <td>0.54</td>\n",
       "      <td>1.0</td>\n",
       "      <td>N</td>\n",
       "      <td>141</td>\n",
       "      <td>237</td>\n",
       "      <td>1.0</td>\n",
       "      <td>2.5</td>\n",
       "    </tr>\n",
       "    <tr>\n",
       "      <th>9997</th>\n",
       "      <td>2.0</td>\n",
       "      <td>1.0</td>\n",
       "      <td>1.14</td>\n",
       "      <td>1.0</td>\n",
       "      <td>N</td>\n",
       "      <td>41</td>\n",
       "      <td>74</td>\n",
       "      <td>1.0</td>\n",
       "      <td>0.0</td>\n",
       "    </tr>\n",
       "    <tr>\n",
       "      <th>9998</th>\n",
       "      <td>2.0</td>\n",
       "      <td>1.0</td>\n",
       "      <td>2.92</td>\n",
       "      <td>1.0</td>\n",
       "      <td>N</td>\n",
       "      <td>88</td>\n",
       "      <td>65</td>\n",
       "      <td>1.0</td>\n",
       "      <td>2.5</td>\n",
       "    </tr>\n",
       "    <tr>\n",
       "      <th>9999</th>\n",
       "      <td>2.0</td>\n",
       "      <td>1.0</td>\n",
       "      <td>2.89</td>\n",
       "      <td>1.0</td>\n",
       "      <td>N</td>\n",
       "      <td>161</td>\n",
       "      <td>238</td>\n",
       "      <td>1.0</td>\n",
       "      <td>2.5</td>\n",
       "    </tr>\n",
       "  </tbody>\n",
       "</table>\n",
       "<p>10000 rows × 9 columns</p>\n",
       "</div>"
      ],
      "text/plain": [
       "      VendorID  passenger_count  trip_distance  RatecodeID store_and_fwd_flag  \\\n",
       "0          2.0              1.0           1.66         1.0                  N   \n",
       "1          2.0              3.0           1.50         1.0                  N   \n",
       "2          1.0              1.0           1.90         1.0                  N   \n",
       "3          2.0              1.0           0.27         1.0                  N   \n",
       "4          2.0              2.0           4.06         1.0                  N   \n",
       "...        ...              ...            ...         ...                ...   \n",
       "9995       1.0              1.0           0.00         1.0                  N   \n",
       "9996       2.0              1.0           0.54         1.0                  N   \n",
       "9997       2.0              1.0           1.14         1.0                  N   \n",
       "9998       2.0              1.0           2.92         1.0                  N   \n",
       "9999       2.0              1.0           2.89         1.0                  N   \n",
       "\n",
       "      PULocationID  DOLocationID  payment_type  congestion_surcharge  \n",
       "0               48            90           1.0                   2.5  \n",
       "1               48           246           2.0                   2.5  \n",
       "2              237           234           1.0                   2.5  \n",
       "3              170           170           2.0                   2.5  \n",
       "4              186           238           2.0                   2.5  \n",
       "...            ...           ...           ...                   ...  \n",
       "9995            74            74           3.0                   0.0  \n",
       "9996           141           237           1.0                   2.5  \n",
       "9997            41            74           1.0                   0.0  \n",
       "9998            88            65           1.0                   2.5  \n",
       "9999           161           238           1.0                   2.5  \n",
       "\n",
       "[10000 rows x 9 columns]"
      ]
     },
     "execution_count": 31,
     "metadata": {},
     "output_type": "execute_result"
    }
   ],
   "source": [
    "from sklearn.impute import SimpleImputer\n",
    "\n",
    "imputer = SimpleImputer(missing_values=np.NaN)  # replacing the missing value with 2\n",
    "df1['VendorID'].fillna(2, inplace=True)\n",
    "df1"
   ]
  },
  {
   "cell_type": "code",
   "execution_count": 32,
   "id": "99a5e2c7",
   "metadata": {},
   "outputs": [
    {
     "name": "stderr",
     "output_type": "stream",
     "text": [
      "C:\\Users\\DELL\\anaconda3\\lib\\site-packages\\seaborn\\distributions.py:2557: FutureWarning: `distplot` is a deprecated function and will be removed in a future version. Please adapt your code to use either `displot` (a figure-level function with similar flexibility) or `histplot` (an axes-level function for histograms).\n",
      "  warnings.warn(msg, FutureWarning)\n"
     ]
    },
    {
     "data": {
      "text/plain": [
       "<AxesSubplot:xlabel='passenger_count', ylabel='Density'>"
      ]
     },
     "execution_count": 32,
     "metadata": {},
     "output_type": "execute_result"
    },
    {
     "data": {
      "image/png": "[encoded data removed]",
      "text/plain": [
       "<Figure size 432x288 with 1 Axes>"
      ]
     },
     "metadata": {
      "needs_background": "light"
     },
     "output_type": "display_data"
    }
   ],
   "source": [
    "#lets try to fill the missing values of passenger count\n",
    "sns.distplot(df1.passenger_count)                      # easily seen that 1 is of majority"
   ]
  },
  {
   "cell_type": "code",
   "execution_count": 33,
   "id": "4f426be2",
   "metadata": {},
   "outputs": [
    {
     "data": {
      "text/html": [
       "<div>\n",
       "<style scoped>\n",
       "    .dataframe tbody tr th:only-of-type {\n",
       "        vertical-align: middle;\n",
       "    }\n",
       "\n",
       "    .dataframe tbody tr th {\n",
       "        vertical-align: top;\n",
       "    }\n",
       "\n",
       "    .dataframe thead th {\n",
       "        text-align: right;\n",
       "    }\n",
       "</style>\n",
       "<table border=\"1\" class=\"dataframe\">\n",
       "  <thead>\n",
       "    <tr style=\"text-align: right;\">\n",
       "      <th></th>\n",
       "      <th>VendorID</th>\n",
       "      <th>passenger_count</th>\n",
       "      <th>trip_distance</th>\n",
       "      <th>RatecodeID</th>\n",
       "      <th>store_and_fwd_flag</th>\n",
       "      <th>PULocationID</th>\n",
       "      <th>DOLocationID</th>\n",
       "      <th>payment_type</th>\n",
       "      <th>congestion_surcharge</th>\n",
       "    </tr>\n",
       "  </thead>\n",
       "  <tbody>\n",
       "    <tr>\n",
       "      <th>0</th>\n",
       "      <td>2.0</td>\n",
       "      <td>1.0</td>\n",
       "      <td>1.66</td>\n",
       "      <td>1.0</td>\n",
       "      <td>N</td>\n",
       "      <td>48</td>\n",
       "      <td>90</td>\n",
       "      <td>1.0</td>\n",
       "      <td>2.5</td>\n",
       "    </tr>\n",
       "    <tr>\n",
       "      <th>1</th>\n",
       "      <td>2.0</td>\n",
       "      <td>3.0</td>\n",
       "      <td>1.50</td>\n",
       "      <td>1.0</td>\n",
       "      <td>N</td>\n",
       "      <td>48</td>\n",
       "      <td>246</td>\n",
       "      <td>2.0</td>\n",
       "      <td>2.5</td>\n",
       "    </tr>\n",
       "    <tr>\n",
       "      <th>2</th>\n",
       "      <td>1.0</td>\n",
       "      <td>1.0</td>\n",
       "      <td>1.90</td>\n",
       "      <td>1.0</td>\n",
       "      <td>N</td>\n",
       "      <td>237</td>\n",
       "      <td>234</td>\n",
       "      <td>1.0</td>\n",
       "      <td>2.5</td>\n",
       "    </tr>\n",
       "    <tr>\n",
       "      <th>3</th>\n",
       "      <td>2.0</td>\n",
       "      <td>1.0</td>\n",
       "      <td>0.27</td>\n",
       "      <td>1.0</td>\n",
       "      <td>N</td>\n",
       "      <td>170</td>\n",
       "      <td>170</td>\n",
       "      <td>2.0</td>\n",
       "      <td>2.5</td>\n",
       "    </tr>\n",
       "    <tr>\n",
       "      <th>4</th>\n",
       "      <td>2.0</td>\n",
       "      <td>2.0</td>\n",
       "      <td>4.06</td>\n",
       "      <td>1.0</td>\n",
       "      <td>N</td>\n",
       "      <td>186</td>\n",
       "      <td>238</td>\n",
       "      <td>2.0</td>\n",
       "      <td>2.5</td>\n",
       "    </tr>\n",
       "    <tr>\n",
       "      <th>...</th>\n",
       "      <td>...</td>\n",
       "      <td>...</td>\n",
       "      <td>...</td>\n",
       "      <td>...</td>\n",
       "      <td>...</td>\n",
       "      <td>...</td>\n",
       "      <td>...</td>\n",
       "      <td>...</td>\n",
       "      <td>...</td>\n",
       "    </tr>\n",
       "    <tr>\n",
       "      <th>9995</th>\n",
       "      <td>1.0</td>\n",
       "      <td>1.0</td>\n",
       "      <td>0.00</td>\n",
       "      <td>1.0</td>\n",
       "      <td>N</td>\n",
       "      <td>74</td>\n",
       "      <td>74</td>\n",
       "      <td>3.0</td>\n",
       "      <td>0.0</td>\n",
       "    </tr>\n",
       "    <tr>\n",
       "      <th>9996</th>\n",
       "      <td>2.0</td>\n",
       "      <td>1.0</td>\n",
       "      <td>0.54</td>\n",
       "      <td>1.0</td>\n",
       "      <td>N</td>\n",
       "      <td>141</td>\n",
       "      <td>237</td>\n",
       "      <td>1.0</td>\n",
       "      <td>2.5</td>\n",
       "    </tr>\n",
       "    <tr>\n",
       "      <th>9997</th>\n",
       "      <td>2.0</td>\n",
       "      <td>1.0</td>\n",
       "      <td>1.14</td>\n",
       "      <td>1.0</td>\n",
       "      <td>N</td>\n",
       "      <td>41</td>\n",
       "      <td>74</td>\n",
       "      <td>1.0</td>\n",
       "      <td>0.0</td>\n",
       "    </tr>\n",
       "    <tr>\n",
       "      <th>9998</th>\n",
       "      <td>2.0</td>\n",
       "      <td>1.0</td>\n",
       "      <td>2.92</td>\n",
       "      <td>1.0</td>\n",
       "      <td>N</td>\n",
       "      <td>88</td>\n",
       "      <td>65</td>\n",
       "      <td>1.0</td>\n",
       "      <td>2.5</td>\n",
       "    </tr>\n",
       "    <tr>\n",
       "      <th>9999</th>\n",
       "      <td>2.0</td>\n",
       "      <td>1.0</td>\n",
       "      <td>2.89</td>\n",
       "      <td>1.0</td>\n",
       "      <td>N</td>\n",
       "      <td>161</td>\n",
       "      <td>238</td>\n",
       "      <td>1.0</td>\n",
       "      <td>2.5</td>\n",
       "    </tr>\n",
       "  </tbody>\n",
       "</table>\n",
       "<p>10000 rows × 9 columns</p>\n",
       "</div>"
      ],
      "text/plain": [
       "      VendorID  passenger_count  trip_distance  RatecodeID store_and_fwd_flag  \\\n",
       "0          2.0              1.0           1.66         1.0                  N   \n",
       "1          2.0              3.0           1.50         1.0                  N   \n",
       "2          1.0              1.0           1.90         1.0                  N   \n",
       "3          2.0              1.0           0.27         1.0                  N   \n",
       "4          2.0              2.0           4.06         1.0                  N   \n",
       "...        ...              ...            ...         ...                ...   \n",
       "9995       1.0              1.0           0.00         1.0                  N   \n",
       "9996       2.0              1.0           0.54         1.0                  N   \n",
       "9997       2.0              1.0           1.14         1.0                  N   \n",
       "9998       2.0              1.0           2.92         1.0                  N   \n",
       "9999       2.0              1.0           2.89         1.0                  N   \n",
       "\n",
       "      PULocationID  DOLocationID  payment_type  congestion_surcharge  \n",
       "0               48            90           1.0                   2.5  \n",
       "1               48           246           2.0                   2.5  \n",
       "2              237           234           1.0                   2.5  \n",
       "3              170           170           2.0                   2.5  \n",
       "4              186           238           2.0                   2.5  \n",
       "...            ...           ...           ...                   ...  \n",
       "9995            74            74           3.0                   0.0  \n",
       "9996           141           237           1.0                   2.5  \n",
       "9997            41            74           1.0                   0.0  \n",
       "9998            88            65           1.0                   2.5  \n",
       "9999           161           238           1.0                   2.5  \n",
       "\n",
       "[10000 rows x 9 columns]"
      ]
     },
     "execution_count": 33,
     "metadata": {},
     "output_type": "execute_result"
    }
   ],
   "source": [
    "from sklearn.impute import SimpleImputer\n",
    "\n",
    "imputer = SimpleImputer(missing_values=np.NaN)  # replacing the missing value with 1\n",
    "df1['passenger_count'].fillna(1, inplace=True)\n",
    "df1"
   ]
  },
  {
   "cell_type": "code",
   "execution_count": 34,
   "id": "38cf3147",
   "metadata": {},
   "outputs": [
    {
     "data": {
      "text/plain": [
       "<AxesSubplot:xlabel='RatecodeID', ylabel='count'>"
      ]
     },
     "execution_count": 34,
     "metadata": {},
     "output_type": "execute_result"
    },
    {
     "data": {
      "image/png": "[encoded data removed]",
      "text/plain": [
       "<Figure size 432x288 with 1 Axes>"
      ]
     },
     "metadata": {
      "needs_background": "light"
     },
     "output_type": "display_data"
    }
   ],
   "source": [
    "#lets try to fill the missing values of RatecodeID\n",
    "sns.countplot(x=\"RatecodeID\",data=df)   #1 is of very high majority"
   ]
  },
  {
   "cell_type": "code",
   "execution_count": 35,
   "id": "72545340",
   "metadata": {
    "scrolled": true
   },
   "outputs": [
    {
     "data": {
      "text/html": [
       "<div>\n",
       "<style scoped>\n",
       "    .dataframe tbody tr th:only-of-type {\n",
       "        vertical-align: middle;\n",
       "    }\n",
       "\n",
       "    .dataframe tbody tr th {\n",
       "        vertical-align: top;\n",
       "    }\n",
       "\n",
       "    .dataframe thead th {\n",
       "        text-align: right;\n",
       "    }\n",
       "</style>\n",
       "<table border=\"1\" class=\"dataframe\">\n",
       "  <thead>\n",
       "    <tr style=\"text-align: right;\">\n",
       "      <th></th>\n",
       "      <th>VendorID</th>\n",
       "      <th>passenger_count</th>\n",
       "      <th>trip_distance</th>\n",
       "      <th>RatecodeID</th>\n",
       "      <th>store_and_fwd_flag</th>\n",
       "      <th>PULocationID</th>\n",
       "      <th>DOLocationID</th>\n",
       "      <th>payment_type</th>\n",
       "      <th>congestion_surcharge</th>\n",
       "    </tr>\n",
       "  </thead>\n",
       "  <tbody>\n",
       "    <tr>\n",
       "      <th>0</th>\n",
       "      <td>2.0</td>\n",
       "      <td>1.0</td>\n",
       "      <td>1.66</td>\n",
       "      <td>1.0</td>\n",
       "      <td>N</td>\n",
       "      <td>48</td>\n",
       "      <td>90</td>\n",
       "      <td>1.0</td>\n",
       "      <td>2.5</td>\n",
       "    </tr>\n",
       "    <tr>\n",
       "      <th>1</th>\n",
       "      <td>2.0</td>\n",
       "      <td>3.0</td>\n",
       "      <td>1.50</td>\n",
       "      <td>1.0</td>\n",
       "      <td>N</td>\n",
       "      <td>48</td>\n",
       "      <td>246</td>\n",
       "      <td>2.0</td>\n",
       "      <td>2.5</td>\n",
       "    </tr>\n",
       "    <tr>\n",
       "      <th>2</th>\n",
       "      <td>1.0</td>\n",
       "      <td>1.0</td>\n",
       "      <td>1.90</td>\n",
       "      <td>1.0</td>\n",
       "      <td>N</td>\n",
       "      <td>237</td>\n",
       "      <td>234</td>\n",
       "      <td>1.0</td>\n",
       "      <td>2.5</td>\n",
       "    </tr>\n",
       "    <tr>\n",
       "      <th>3</th>\n",
       "      <td>2.0</td>\n",
       "      <td>1.0</td>\n",
       "      <td>0.27</td>\n",
       "      <td>1.0</td>\n",
       "      <td>N</td>\n",
       "      <td>170</td>\n",
       "      <td>170</td>\n",
       "      <td>2.0</td>\n",
       "      <td>2.5</td>\n",
       "    </tr>\n",
       "    <tr>\n",
       "      <th>4</th>\n",
       "      <td>2.0</td>\n",
       "      <td>2.0</td>\n",
       "      <td>4.06</td>\n",
       "      <td>1.0</td>\n",
       "      <td>N</td>\n",
       "      <td>186</td>\n",
       "      <td>238</td>\n",
       "      <td>2.0</td>\n",
       "      <td>2.5</td>\n",
       "    </tr>\n",
       "    <tr>\n",
       "      <th>...</th>\n",
       "      <td>...</td>\n",
       "      <td>...</td>\n",
       "      <td>...</td>\n",
       "      <td>...</td>\n",
       "      <td>...</td>\n",
       "      <td>...</td>\n",
       "      <td>...</td>\n",
       "      <td>...</td>\n",
       "      <td>...</td>\n",
       "    </tr>\n",
       "    <tr>\n",
       "      <th>9995</th>\n",
       "      <td>1.0</td>\n",
       "      <td>1.0</td>\n",
       "      <td>0.00</td>\n",
       "      <td>1.0</td>\n",
       "      <td>N</td>\n",
       "      <td>74</td>\n",
       "      <td>74</td>\n",
       "      <td>3.0</td>\n",
       "      <td>0.0</td>\n",
       "    </tr>\n",
       "    <tr>\n",
       "      <th>9996</th>\n",
       "      <td>2.0</td>\n",
       "      <td>1.0</td>\n",
       "      <td>0.54</td>\n",
       "      <td>1.0</td>\n",
       "      <td>N</td>\n",
       "      <td>141</td>\n",
       "      <td>237</td>\n",
       "      <td>1.0</td>\n",
       "      <td>2.5</td>\n",
       "    </tr>\n",
       "    <tr>\n",
       "      <th>9997</th>\n",
       "      <td>2.0</td>\n",
       "      <td>1.0</td>\n",
       "      <td>1.14</td>\n",
       "      <td>1.0</td>\n",
       "      <td>N</td>\n",
       "      <td>41</td>\n",
       "      <td>74</td>\n",
       "      <td>1.0</td>\n",
       "      <td>0.0</td>\n",
       "    </tr>\n",
       "    <tr>\n",
       "      <th>9998</th>\n",
       "      <td>2.0</td>\n",
       "      <td>1.0</td>\n",
       "      <td>2.92</td>\n",
       "      <td>1.0</td>\n",
       "      <td>N</td>\n",
       "      <td>88</td>\n",
       "      <td>65</td>\n",
       "      <td>1.0</td>\n",
       "      <td>2.5</td>\n",
       "    </tr>\n",
       "    <tr>\n",
       "      <th>9999</th>\n",
       "      <td>2.0</td>\n",
       "      <td>1.0</td>\n",
       "      <td>2.89</td>\n",
       "      <td>1.0</td>\n",
       "      <td>N</td>\n",
       "      <td>161</td>\n",
       "      <td>238</td>\n",
       "      <td>1.0</td>\n",
       "      <td>2.5</td>\n",
       "    </tr>\n",
       "  </tbody>\n",
       "</table>\n",
       "<p>10000 rows × 9 columns</p>\n",
       "</div>"
      ],
      "text/plain": [
       "      VendorID  passenger_count  trip_distance  RatecodeID store_and_fwd_flag  \\\n",
       "0          2.0              1.0           1.66         1.0                  N   \n",
       "1          2.0              3.0           1.50         1.0                  N   \n",
       "2          1.0              1.0           1.90         1.0                  N   \n",
       "3          2.0              1.0           0.27         1.0                  N   \n",
       "4          2.0              2.0           4.06         1.0                  N   \n",
       "...        ...              ...            ...         ...                ...   \n",
       "9995       1.0              1.0           0.00         1.0                  N   \n",
       "9996       2.0              1.0           0.54         1.0                  N   \n",
       "9997       2.0              1.0           1.14         1.0                  N   \n",
       "9998       2.0              1.0           2.92         1.0                  N   \n",
       "9999       2.0              1.0           2.89         1.0                  N   \n",
       "\n",
       "      PULocationID  DOLocationID  payment_type  congestion_surcharge  \n",
       "0               48            90           1.0                   2.5  \n",
       "1               48           246           2.0                   2.5  \n",
       "2              237           234           1.0                   2.5  \n",
       "3              170           170           2.0                   2.5  \n",
       "4              186           238           2.0                   2.5  \n",
       "...            ...           ...           ...                   ...  \n",
       "9995            74            74           3.0                   0.0  \n",
       "9996           141           237           1.0                   2.5  \n",
       "9997            41            74           1.0                   0.0  \n",
       "9998            88            65           1.0                   2.5  \n",
       "9999           161           238           1.0                   2.5  \n",
       "\n",
       "[10000 rows x 9 columns]"
      ]
     },
     "execution_count": 35,
     "metadata": {},
     "output_type": "execute_result"
    }
   ],
   "source": [
    "from sklearn.impute import SimpleImputer\n",
    "\n",
    "imputer = SimpleImputer(missing_values=np.NaN)  # replacing the missing value with 1\n",
    "df1['RatecodeID'].fillna(1, inplace=True)\n",
    "df1"
   ]
  },
  {
   "cell_type": "code",
   "execution_count": 36,
   "id": "b9c794cd",
   "metadata": {},
   "outputs": [
    {
     "data": {
      "text/plain": [
       "<AxesSubplot:xlabel='payment_type', ylabel='count'>"
      ]
     },
     "execution_count": 36,
     "metadata": {},
     "output_type": "execute_result"
    },
    {
     "data": {
      "image/png": "[encoded data removed]",
      "text/plain": [
       "<Figure size 432x288 with 1 Axes>"
      ]
     },
     "metadata": {
      "needs_background": "light"
     },
     "output_type": "display_data"
    }
   ],
   "source": [
    "#lets try to fill the missing values of RatecodeID\n",
    "sns.countplot(x=\"payment_type\",data=df)        #1 is of very high majority"
   ]
  },
  {
   "cell_type": "code",
   "execution_count": 37,
   "id": "f115e260",
   "metadata": {},
   "outputs": [
    {
     "data": {
      "text/html": [
       "<div>\n",
       "<style scoped>\n",
       "    .dataframe tbody tr th:only-of-type {\n",
       "        vertical-align: middle;\n",
       "    }\n",
       "\n",
       "    .dataframe tbody tr th {\n",
       "        vertical-align: top;\n",
       "    }\n",
       "\n",
       "    .dataframe thead th {\n",
       "        text-align: right;\n",
       "    }\n",
       "</style>\n",
       "<table border=\"1\" class=\"dataframe\">\n",
       "  <thead>\n",
       "    <tr style=\"text-align: right;\">\n",
       "      <th></th>\n",
       "      <th>VendorID</th>\n",
       "      <th>passenger_count</th>\n",
       "      <th>trip_distance</th>\n",
       "      <th>RatecodeID</th>\n",
       "      <th>store_and_fwd_flag</th>\n",
       "      <th>PULocationID</th>\n",
       "      <th>DOLocationID</th>\n",
       "      <th>payment_type</th>\n",
       "      <th>congestion_surcharge</th>\n",
       "    </tr>\n",
       "  </thead>\n",
       "  <tbody>\n",
       "    <tr>\n",
       "      <th>0</th>\n",
       "      <td>2.0</td>\n",
       "      <td>1.0</td>\n",
       "      <td>1.66</td>\n",
       "      <td>1.0</td>\n",
       "      <td>N</td>\n",
       "      <td>48</td>\n",
       "      <td>90</td>\n",
       "      <td>1.0</td>\n",
       "      <td>2.5</td>\n",
       "    </tr>\n",
       "    <tr>\n",
       "      <th>1</th>\n",
       "      <td>2.0</td>\n",
       "      <td>3.0</td>\n",
       "      <td>1.50</td>\n",
       "      <td>1.0</td>\n",
       "      <td>N</td>\n",
       "      <td>48</td>\n",
       "      <td>246</td>\n",
       "      <td>2.0</td>\n",
       "      <td>2.5</td>\n",
       "    </tr>\n",
       "    <tr>\n",
       "      <th>2</th>\n",
       "      <td>1.0</td>\n",
       "      <td>1.0</td>\n",
       "      <td>1.90</td>\n",
       "      <td>1.0</td>\n",
       "      <td>N</td>\n",
       "      <td>237</td>\n",
       "      <td>234</td>\n",
       "      <td>1.0</td>\n",
       "      <td>2.5</td>\n",
       "    </tr>\n",
       "    <tr>\n",
       "      <th>3</th>\n",
       "      <td>2.0</td>\n",
       "      <td>1.0</td>\n",
       "      <td>0.27</td>\n",
       "      <td>1.0</td>\n",
       "      <td>N</td>\n",
       "      <td>170</td>\n",
       "      <td>170</td>\n",
       "      <td>2.0</td>\n",
       "      <td>2.5</td>\n",
       "    </tr>\n",
       "    <tr>\n",
       "      <th>4</th>\n",
       "      <td>2.0</td>\n",
       "      <td>2.0</td>\n",
       "      <td>4.06</td>\n",
       "      <td>1.0</td>\n",
       "      <td>N</td>\n",
       "      <td>186</td>\n",
       "      <td>238</td>\n",
       "      <td>2.0</td>\n",
       "      <td>2.5</td>\n",
       "    </tr>\n",
       "    <tr>\n",
       "      <th>...</th>\n",
       "      <td>...</td>\n",
       "      <td>...</td>\n",
       "      <td>...</td>\n",
       "      <td>...</td>\n",
       "      <td>...</td>\n",
       "      <td>...</td>\n",
       "      <td>...</td>\n",
       "      <td>...</td>\n",
       "      <td>...</td>\n",
       "    </tr>\n",
       "    <tr>\n",
       "      <th>9995</th>\n",
       "      <td>1.0</td>\n",
       "      <td>1.0</td>\n",
       "      <td>0.00</td>\n",
       "      <td>1.0</td>\n",
       "      <td>N</td>\n",
       "      <td>74</td>\n",
       "      <td>74</td>\n",
       "      <td>3.0</td>\n",
       "      <td>0.0</td>\n",
       "    </tr>\n",
       "    <tr>\n",
       "      <th>9996</th>\n",
       "      <td>2.0</td>\n",
       "      <td>1.0</td>\n",
       "      <td>0.54</td>\n",
       "      <td>1.0</td>\n",
       "      <td>N</td>\n",
       "      <td>141</td>\n",
       "      <td>237</td>\n",
       "      <td>1.0</td>\n",
       "      <td>2.5</td>\n",
       "    </tr>\n",
       "    <tr>\n",
       "      <th>9997</th>\n",
       "      <td>2.0</td>\n",
       "      <td>1.0</td>\n",
       "      <td>1.14</td>\n",
       "      <td>1.0</td>\n",
       "      <td>N</td>\n",
       "      <td>41</td>\n",
       "      <td>74</td>\n",
       "      <td>1.0</td>\n",
       "      <td>0.0</td>\n",
       "    </tr>\n",
       "    <tr>\n",
       "      <th>9998</th>\n",
       "      <td>2.0</td>\n",
       "      <td>1.0</td>\n",
       "      <td>2.92</td>\n",
       "      <td>1.0</td>\n",
       "      <td>N</td>\n",
       "      <td>88</td>\n",
       "      <td>65</td>\n",
       "      <td>1.0</td>\n",
       "      <td>2.5</td>\n",
       "    </tr>\n",
       "    <tr>\n",
       "      <th>9999</th>\n",
       "      <td>2.0</td>\n",
       "      <td>1.0</td>\n",
       "      <td>2.89</td>\n",
       "      <td>1.0</td>\n",
       "      <td>N</td>\n",
       "      <td>161</td>\n",
       "      <td>238</td>\n",
       "      <td>1.0</td>\n",
       "      <td>2.5</td>\n",
       "    </tr>\n",
       "  </tbody>\n",
       "</table>\n",
       "<p>10000 rows × 9 columns</p>\n",
       "</div>"
      ],
      "text/plain": [
       "      VendorID  passenger_count  trip_distance  RatecodeID store_and_fwd_flag  \\\n",
       "0          2.0              1.0           1.66         1.0                  N   \n",
       "1          2.0              3.0           1.50         1.0                  N   \n",
       "2          1.0              1.0           1.90         1.0                  N   \n",
       "3          2.0              1.0           0.27         1.0                  N   \n",
       "4          2.0              2.0           4.06         1.0                  N   \n",
       "...        ...              ...            ...         ...                ...   \n",
       "9995       1.0              1.0           0.00         1.0                  N   \n",
       "9996       2.0              1.0           0.54         1.0                  N   \n",
       "9997       2.0              1.0           1.14         1.0                  N   \n",
       "9998       2.0              1.0           2.92         1.0                  N   \n",
       "9999       2.0              1.0           2.89         1.0                  N   \n",
       "\n",
       "      PULocationID  DOLocationID  payment_type  congestion_surcharge  \n",
       "0               48            90           1.0                   2.5  \n",
       "1               48           246           2.0                   2.5  \n",
       "2              237           234           1.0                   2.5  \n",
       "3              170           170           2.0                   2.5  \n",
       "4              186           238           2.0                   2.5  \n",
       "...            ...           ...           ...                   ...  \n",
       "9995            74            74           3.0                   0.0  \n",
       "9996           141           237           1.0                   2.5  \n",
       "9997            41            74           1.0                   0.0  \n",
       "9998            88            65           1.0                   2.5  \n",
       "9999           161           238           1.0                   2.5  \n",
       "\n",
       "[10000 rows x 9 columns]"
      ]
     },
     "execution_count": 37,
     "metadata": {},
     "output_type": "execute_result"
    }
   ],
   "source": [
    "df1['payment_type'].fillna(1, inplace=True)\n",
    "df1      # replacing the missing value with 1"
   ]
  },
  {
   "cell_type": "code",
   "execution_count": 38,
   "id": "0d9c39dc",
   "metadata": {},
   "outputs": [
    {
     "data": {
      "text/plain": [
       "<AxesSubplot:xlabel='store_and_fwd_flag', ylabel='count'>"
      ]
     },
     "execution_count": 38,
     "metadata": {},
     "output_type": "execute_result"
    },
    {
     "data": {
      "image/png": "[encoded data removed]",
      "text/plain": [
       "<Figure size 432x288 with 1 Axes>"
      ]
     },
     "metadata": {
      "needs_background": "light"
     },
     "output_type": "display_data"
    }
   ],
   "source": [
    "sns.countplot(x=\"store_and_fwd_flag\",data=df1) #easily seen that \"N\" is most repeating here"
   ]
  },
  {
   "cell_type": "code",
   "execution_count": 39,
   "id": "010688b5",
   "metadata": {},
   "outputs": [
    {
     "data": {
      "text/html": [
       "<div>\n",
       "<style scoped>\n",
       "    .dataframe tbody tr th:only-of-type {\n",
       "        vertical-align: middle;\n",
       "    }\n",
       "\n",
       "    .dataframe tbody tr th {\n",
       "        vertical-align: top;\n",
       "    }\n",
       "\n",
       "    .dataframe thead th {\n",
       "        text-align: right;\n",
       "    }\n",
       "</style>\n",
       "<table border=\"1\" class=\"dataframe\">\n",
       "  <thead>\n",
       "    <tr style=\"text-align: right;\">\n",
       "      <th></th>\n",
       "      <th>VendorID</th>\n",
       "      <th>passenger_count</th>\n",
       "      <th>trip_distance</th>\n",
       "      <th>RatecodeID</th>\n",
       "      <th>store_and_fwd_flag</th>\n",
       "      <th>PULocationID</th>\n",
       "      <th>DOLocationID</th>\n",
       "      <th>payment_type</th>\n",
       "      <th>congestion_surcharge</th>\n",
       "    </tr>\n",
       "  </thead>\n",
       "  <tbody>\n",
       "    <tr>\n",
       "      <th>0</th>\n",
       "      <td>2.0</td>\n",
       "      <td>1.0</td>\n",
       "      <td>1.66</td>\n",
       "      <td>1.0</td>\n",
       "      <td>N</td>\n",
       "      <td>48</td>\n",
       "      <td>90</td>\n",
       "      <td>1.0</td>\n",
       "      <td>2.5</td>\n",
       "    </tr>\n",
       "    <tr>\n",
       "      <th>1</th>\n",
       "      <td>2.0</td>\n",
       "      <td>3.0</td>\n",
       "      <td>1.50</td>\n",
       "      <td>1.0</td>\n",
       "      <td>N</td>\n",
       "      <td>48</td>\n",
       "      <td>246</td>\n",
       "      <td>2.0</td>\n",
       "      <td>2.5</td>\n",
       "    </tr>\n",
       "    <tr>\n",
       "      <th>2</th>\n",
       "      <td>1.0</td>\n",
       "      <td>1.0</td>\n",
       "      <td>1.90</td>\n",
       "      <td>1.0</td>\n",
       "      <td>N</td>\n",
       "      <td>237</td>\n",
       "      <td>234</td>\n",
       "      <td>1.0</td>\n",
       "      <td>2.5</td>\n",
       "    </tr>\n",
       "    <tr>\n",
       "      <th>3</th>\n",
       "      <td>2.0</td>\n",
       "      <td>1.0</td>\n",
       "      <td>0.27</td>\n",
       "      <td>1.0</td>\n",
       "      <td>N</td>\n",
       "      <td>170</td>\n",
       "      <td>170</td>\n",
       "      <td>2.0</td>\n",
       "      <td>2.5</td>\n",
       "    </tr>\n",
       "    <tr>\n",
       "      <th>4</th>\n",
       "      <td>2.0</td>\n",
       "      <td>2.0</td>\n",
       "      <td>4.06</td>\n",
       "      <td>1.0</td>\n",
       "      <td>N</td>\n",
       "      <td>186</td>\n",
       "      <td>238</td>\n",
       "      <td>2.0</td>\n",
       "      <td>2.5</td>\n",
       "    </tr>\n",
       "    <tr>\n",
       "      <th>...</th>\n",
       "      <td>...</td>\n",
       "      <td>...</td>\n",
       "      <td>...</td>\n",
       "      <td>...</td>\n",
       "      <td>...</td>\n",
       "      <td>...</td>\n",
       "      <td>...</td>\n",
       "      <td>...</td>\n",
       "      <td>...</td>\n",
       "    </tr>\n",
       "    <tr>\n",
       "      <th>9995</th>\n",
       "      <td>1.0</td>\n",
       "      <td>1.0</td>\n",
       "      <td>0.00</td>\n",
       "      <td>1.0</td>\n",
       "      <td>N</td>\n",
       "      <td>74</td>\n",
       "      <td>74</td>\n",
       "      <td>3.0</td>\n",
       "      <td>0.0</td>\n",
       "    </tr>\n",
       "    <tr>\n",
       "      <th>9996</th>\n",
       "      <td>2.0</td>\n",
       "      <td>1.0</td>\n",
       "      <td>0.54</td>\n",
       "      <td>1.0</td>\n",
       "      <td>N</td>\n",
       "      <td>141</td>\n",
       "      <td>237</td>\n",
       "      <td>1.0</td>\n",
       "      <td>2.5</td>\n",
       "    </tr>\n",
       "    <tr>\n",
       "      <th>9997</th>\n",
       "      <td>2.0</td>\n",
       "      <td>1.0</td>\n",
       "      <td>1.14</td>\n",
       "      <td>1.0</td>\n",
       "      <td>N</td>\n",
       "      <td>41</td>\n",
       "      <td>74</td>\n",
       "      <td>1.0</td>\n",
       "      <td>0.0</td>\n",
       "    </tr>\n",
       "    <tr>\n",
       "      <th>9998</th>\n",
       "      <td>2.0</td>\n",
       "      <td>1.0</td>\n",
       "      <td>2.92</td>\n",
       "      <td>1.0</td>\n",
       "      <td>N</td>\n",
       "      <td>88</td>\n",
       "      <td>65</td>\n",
       "      <td>1.0</td>\n",
       "      <td>2.5</td>\n",
       "    </tr>\n",
       "    <tr>\n",
       "      <th>9999</th>\n",
       "      <td>2.0</td>\n",
       "      <td>1.0</td>\n",
       "      <td>2.89</td>\n",
       "      <td>1.0</td>\n",
       "      <td>N</td>\n",
       "      <td>161</td>\n",
       "      <td>238</td>\n",
       "      <td>1.0</td>\n",
       "      <td>2.5</td>\n",
       "    </tr>\n",
       "  </tbody>\n",
       "</table>\n",
       "<p>10000 rows × 9 columns</p>\n",
       "</div>"
      ],
      "text/plain": [
       "      VendorID  passenger_count  trip_distance  RatecodeID store_and_fwd_flag  \\\n",
       "0          2.0              1.0           1.66         1.0                  N   \n",
       "1          2.0              3.0           1.50         1.0                  N   \n",
       "2          1.0              1.0           1.90         1.0                  N   \n",
       "3          2.0              1.0           0.27         1.0                  N   \n",
       "4          2.0              2.0           4.06         1.0                  N   \n",
       "...        ...              ...            ...         ...                ...   \n",
       "9995       1.0              1.0           0.00         1.0                  N   \n",
       "9996       2.0              1.0           0.54         1.0                  N   \n",
       "9997       2.0              1.0           1.14         1.0                  N   \n",
       "9998       2.0              1.0           2.92         1.0                  N   \n",
       "9999       2.0              1.0           2.89         1.0                  N   \n",
       "\n",
       "      PULocationID  DOLocationID  payment_type  congestion_surcharge  \n",
       "0               48            90           1.0                   2.5  \n",
       "1               48           246           2.0                   2.5  \n",
       "2              237           234           1.0                   2.5  \n",
       "3              170           170           2.0                   2.5  \n",
       "4              186           238           2.0                   2.5  \n",
       "...            ...           ...           ...                   ...  \n",
       "9995            74            74           3.0                   0.0  \n",
       "9996           141           237           1.0                   2.5  \n",
       "9997            41            74           1.0                   0.0  \n",
       "9998            88            65           1.0                   2.5  \n",
       "9999           161           238           1.0                   2.5  \n",
       "\n",
       "[10000 rows x 9 columns]"
      ]
     },
     "execution_count": 39,
     "metadata": {},
     "output_type": "execute_result"
    }
   ],
   "source": [
    "from sklearn.impute import SimpleImputer\n",
    "\n",
    "imputer = SimpleImputer(missing_values=np.NaN, strategy='most_frequent')  # replacing the missing values with \"N\"\n",
    " \n",
    "df1.store_and_fwd_flag = imputer.fit_transform(df1['store_and_fwd_flag'].values.reshape(-1,1))[:,0]\n",
    " \n",
    "df1"
   ]
  },
  {
   "cell_type": "code",
   "execution_count": 40,
   "id": "dca2420a",
   "metadata": {},
   "outputs": [
    {
     "data": {
      "text/html": [
       "<div>\n",
       "<style scoped>\n",
       "    .dataframe tbody tr th:only-of-type {\n",
       "        vertical-align: middle;\n",
       "    }\n",
       "\n",
       "    .dataframe tbody tr th {\n",
       "        vertical-align: top;\n",
       "    }\n",
       "\n",
       "    .dataframe thead th {\n",
       "        text-align: right;\n",
       "    }\n",
       "</style>\n",
       "<table border=\"1\" class=\"dataframe\">\n",
       "  <thead>\n",
       "    <tr style=\"text-align: right;\">\n",
       "      <th></th>\n",
       "      <th>Y</th>\n",
       "    </tr>\n",
       "  </thead>\n",
       "  <tbody>\n",
       "    <tr>\n",
       "      <th>0</th>\n",
       "      <td>0</td>\n",
       "    </tr>\n",
       "    <tr>\n",
       "      <th>1</th>\n",
       "      <td>0</td>\n",
       "    </tr>\n",
       "    <tr>\n",
       "      <th>2</th>\n",
       "      <td>0</td>\n",
       "    </tr>\n",
       "    <tr>\n",
       "      <th>3</th>\n",
       "      <td>0</td>\n",
       "    </tr>\n",
       "    <tr>\n",
       "      <th>4</th>\n",
       "      <td>0</td>\n",
       "    </tr>\n",
       "  </tbody>\n",
       "</table>\n",
       "</div>"
      ],
      "text/plain": [
       "   Y\n",
       "0  0\n",
       "1  0\n",
       "2  0\n",
       "3  0\n",
       "4  0"
      ]
     },
     "execution_count": 40,
     "metadata": {},
     "output_type": "execute_result"
    }
   ],
   "source": [
    "store_and_fwd_flag = pd.get_dummies(df1[\"store_and_fwd_flag\"],drop_first=True)\n",
    "store_and_fwd_flag.head()  #converting categorical values to numerical using dummies"
   ]
  },
  {
   "cell_type": "code",
   "execution_count": 41,
   "id": "5656e8b2",
   "metadata": {},
   "outputs": [],
   "source": [
    "df1=pd.concat([df1,store_and_fwd_flag],axis=1) #adding the dummy columns to the dataset\n",
    "df1.drop([\"store_and_fwd_flag\"],axis=1,inplace=True) #and dropping the original column"
   ]
  },
  {
   "cell_type": "code",
   "execution_count": 42,
   "id": "020cc48a",
   "metadata": {
    "scrolled": true
   },
   "outputs": [
    {
     "name": "stdout",
     "output_type": "stream",
     "text": [
      "<class 'pandas.core.frame.DataFrame'>\n",
      "RangeIndex: 10000 entries, 0 to 9999\n",
      "Data columns (total 9 columns):\n",
      " #   Column                Non-Null Count  Dtype  \n",
      "---  ------                --------------  -----  \n",
      " 0   VendorID              10000 non-null  float64\n",
      " 1   passenger_count       10000 non-null  float64\n",
      " 2   trip_distance         10000 non-null  float64\n",
      " 3   RatecodeID            10000 non-null  float64\n",
      " 4   PULocationID          10000 non-null  int64  \n",
      " 5   DOLocationID          10000 non-null  int64  \n",
      " 6   payment_type          10000 non-null  float64\n",
      " 7   congestion_surcharge  10000 non-null  float64\n",
      " 8   Y                     10000 non-null  uint8  \n",
      "dtypes: float64(6), int64(2), uint8(1)\n",
      "memory usage: 634.9 KB\n"
     ]
    }
   ],
   "source": [
    "df1.info()"
   ]
  },
  {
   "cell_type": "markdown",
   "id": "a486af67",
   "metadata": {},
   "source": [
    "\n",
    "# Modelling the data"
   ]
  },
  {
   "cell_type": "code",
   "execution_count": 43,
   "id": "cc9259cb",
   "metadata": {},
   "outputs": [],
   "source": [
    "X= df.drop(\"fare_amount\",axis=1)\n",
    "y= df[\"fare_amount\"]     #taking fare_amount as the dependent variable and others as independent variable"
   ]
  },
  {
   "cell_type": "markdown",
   "id": "6be22125",
   "metadata": {},
   "source": [
    "### Splitting the data into training and testing as 70%-30%"
   ]
  },
  {
   "cell_type": "code",
   "execution_count": 44,
   "id": "2d8cade5",
   "metadata": {},
   "outputs": [],
   "source": [
    "X_train, X_test, y_train, y_test = train_test_split( X, y, test_size=0.30, random_state=42)"
   ]
  },
  {
   "cell_type": "markdown",
   "id": "98206a67",
   "metadata": {},
   "source": [
    "# Linear Regression"
   ]
  },
  {
   "cell_type": "code",
   "execution_count": 45,
   "id": "477e8f4d",
   "metadata": {},
   "outputs": [
    {
     "data": {
      "text/plain": [
       "0.7841857753211016"
      ]
     },
     "execution_count": 45,
     "metadata": {},
     "output_type": "execute_result"
    }
   ],
   "source": [
    "from sklearn.linear_model import LinearRegression\n",
    "model =  LinearRegression().fit(X_train,y_train)\n",
    "model.score(X_train, y_train)   #has the problem of over-fitting\n",
    "model.score(X_test, y_test)"
   ]
  },
  {
   "cell_type": "markdown",
   "id": "e4b59e04",
   "metadata": {},
   "source": [
    "# Polynomial Regression"
   ]
  },
  {
   "cell_type": "code",
   "execution_count": 46,
   "id": "2625eaca",
   "metadata": {},
   "outputs": [
    {
     "name": "stdout",
     "output_type": "stream",
     "text": [
      "0.81192556503121\n",
      "0.8106435318784664\n"
     ]
    }
   ],
   "source": [
    "from sklearn.preprocessing import PolynomialFeatures\n",
    "from sklearn import linear_model\n",
    "\n",
    "poly = PolynomialFeatures(degree=3, interaction_only=True)\n",
    "x_train2 = poly.fit_transform(X_train)\n",
    "x_test2 = poly.fit_transform(X_test)\n",
    "\n",
    "poly_clf = linear_model.LinearRegression()\n",
    "\n",
    "poly_clf.fit(x_train2, y_train)            #model is good in training and testing\n",
    "\n",
    "y_pred = poly_clf.predict(x_test2)\n",
    "\n",
    "#print(y_pred)\n",
    "\n",
    "#In sample (training) R^2 will always improve with the number of variables!\n",
    "print(poly_clf.score(x_train2, y_train))\n",
    "print(poly_clf.score(x_test2, y_test))"
   ]
  },
  {
   "cell_type": "markdown",
   "id": "82f40d21",
   "metadata": {},
   "source": [
    "# Decision trees"
   ]
  },
  {
   "cell_type": "code",
   "execution_count": 47,
   "id": "80a6dc72",
   "metadata": {
    "scrolled": true
   },
   "outputs": [
    {
     "name": "stdout",
     "output_type": "stream",
     "text": [
      "0.853637493697231\n",
      "0.8222525847844581\n"
     ]
    },
    {
     "data": {
      "text/html": [
       "<div>\n",
       "<style scoped>\n",
       "    .dataframe tbody tr th:only-of-type {\n",
       "        vertical-align: middle;\n",
       "    }\n",
       "\n",
       "    .dataframe tbody tr th {\n",
       "        vertical-align: top;\n",
       "    }\n",
       "\n",
       "    .dataframe thead th {\n",
       "        text-align: right;\n",
       "    }\n",
       "</style>\n",
       "<table border=\"1\" class=\"dataframe\">\n",
       "  <thead>\n",
       "    <tr style=\"text-align: right;\">\n",
       "      <th></th>\n",
       "      <th>VendorID</th>\n",
       "      <th>passenger_count</th>\n",
       "      <th>trip_distance</th>\n",
       "      <th>RatecodeID</th>\n",
       "      <th>PULocationID</th>\n",
       "      <th>DOLocationID</th>\n",
       "      <th>payment_type</th>\n",
       "      <th>congestion_surcharge</th>\n",
       "      <th>Y</th>\n",
       "      <th>fare_amount</th>\n",
       "    </tr>\n",
       "  </thead>\n",
       "  <tbody>\n",
       "    <tr>\n",
       "      <th>0</th>\n",
       "      <td>2.0</td>\n",
       "      <td>1.0</td>\n",
       "      <td>1.66</td>\n",
       "      <td>1.0</td>\n",
       "      <td>48</td>\n",
       "      <td>90</td>\n",
       "      <td>1.0</td>\n",
       "      <td>2.5</td>\n",
       "      <td>0</td>\n",
       "      <td>8.936279</td>\n",
       "    </tr>\n",
       "    <tr>\n",
       "      <th>1</th>\n",
       "      <td>2.0</td>\n",
       "      <td>3.0</td>\n",
       "      <td>1.50</td>\n",
       "      <td>1.0</td>\n",
       "      <td>48</td>\n",
       "      <td>246</td>\n",
       "      <td>2.0</td>\n",
       "      <td>2.5</td>\n",
       "      <td>0</td>\n",
       "      <td>6.810380</td>\n",
       "    </tr>\n",
       "    <tr>\n",
       "      <th>2</th>\n",
       "      <td>1.0</td>\n",
       "      <td>1.0</td>\n",
       "      <td>1.90</td>\n",
       "      <td>1.0</td>\n",
       "      <td>237</td>\n",
       "      <td>234</td>\n",
       "      <td>1.0</td>\n",
       "      <td>2.5</td>\n",
       "      <td>0</td>\n",
       "      <td>8.936279</td>\n",
       "    </tr>\n",
       "    <tr>\n",
       "      <th>3</th>\n",
       "      <td>2.0</td>\n",
       "      <td>1.0</td>\n",
       "      <td>0.27</td>\n",
       "      <td>1.0</td>\n",
       "      <td>170</td>\n",
       "      <td>170</td>\n",
       "      <td>2.0</td>\n",
       "      <td>2.5</td>\n",
       "      <td>0</td>\n",
       "      <td>4.855368</td>\n",
       "    </tr>\n",
       "    <tr>\n",
       "      <th>4</th>\n",
       "      <td>2.0</td>\n",
       "      <td>2.0</td>\n",
       "      <td>4.06</td>\n",
       "      <td>1.0</td>\n",
       "      <td>186</td>\n",
       "      <td>238</td>\n",
       "      <td>2.0</td>\n",
       "      <td>2.5</td>\n",
       "      <td>0</td>\n",
       "      <td>16.394855</td>\n",
       "    </tr>\n",
       "    <tr>\n",
       "      <th>...</th>\n",
       "      <td>...</td>\n",
       "      <td>...</td>\n",
       "      <td>...</td>\n",
       "      <td>...</td>\n",
       "      <td>...</td>\n",
       "      <td>...</td>\n",
       "      <td>...</td>\n",
       "      <td>...</td>\n",
       "      <td>...</td>\n",
       "      <td>...</td>\n",
       "    </tr>\n",
       "    <tr>\n",
       "      <th>9995</th>\n",
       "      <td>1.0</td>\n",
       "      <td>1.0</td>\n",
       "      <td>0.00</td>\n",
       "      <td>1.0</td>\n",
       "      <td>74</td>\n",
       "      <td>74</td>\n",
       "      <td>3.0</td>\n",
       "      <td>0.0</td>\n",
       "      <td>0</td>\n",
       "      <td>3.290310</td>\n",
       "    </tr>\n",
       "    <tr>\n",
       "      <th>9996</th>\n",
       "      <td>2.0</td>\n",
       "      <td>1.0</td>\n",
       "      <td>0.54</td>\n",
       "      <td>1.0</td>\n",
       "      <td>141</td>\n",
       "      <td>237</td>\n",
       "      <td>1.0</td>\n",
       "      <td>2.5</td>\n",
       "      <td>0</td>\n",
       "      <td>4.855368</td>\n",
       "    </tr>\n",
       "    <tr>\n",
       "      <th>9997</th>\n",
       "      <td>2.0</td>\n",
       "      <td>1.0</td>\n",
       "      <td>1.14</td>\n",
       "      <td>1.0</td>\n",
       "      <td>41</td>\n",
       "      <td>74</td>\n",
       "      <td>1.0</td>\n",
       "      <td>0.0</td>\n",
       "      <td>0</td>\n",
       "      <td>6.810380</td>\n",
       "    </tr>\n",
       "    <tr>\n",
       "      <th>9998</th>\n",
       "      <td>2.0</td>\n",
       "      <td>1.0</td>\n",
       "      <td>2.92</td>\n",
       "      <td>1.0</td>\n",
       "      <td>88</td>\n",
       "      <td>65</td>\n",
       "      <td>1.0</td>\n",
       "      <td>2.5</td>\n",
       "      <td>0</td>\n",
       "      <td>11.369839</td>\n",
       "    </tr>\n",
       "    <tr>\n",
       "      <th>9999</th>\n",
       "      <td>2.0</td>\n",
       "      <td>1.0</td>\n",
       "      <td>2.89</td>\n",
       "      <td>1.0</td>\n",
       "      <td>161</td>\n",
       "      <td>238</td>\n",
       "      <td>1.0</td>\n",
       "      <td>2.5</td>\n",
       "      <td>0</td>\n",
       "      <td>11.369839</td>\n",
       "    </tr>\n",
       "  </tbody>\n",
       "</table>\n",
       "<p>10000 rows × 10 columns</p>\n",
       "</div>"
      ],
      "text/plain": [
       "      VendorID  passenger_count  trip_distance  RatecodeID  PULocationID  \\\n",
       "0          2.0              1.0           1.66         1.0            48   \n",
       "1          2.0              3.0           1.50         1.0            48   \n",
       "2          1.0              1.0           1.90         1.0           237   \n",
       "3          2.0              1.0           0.27         1.0           170   \n",
       "4          2.0              2.0           4.06         1.0           186   \n",
       "...        ...              ...            ...         ...           ...   \n",
       "9995       1.0              1.0           0.00         1.0            74   \n",
       "9996       2.0              1.0           0.54         1.0           141   \n",
       "9997       2.0              1.0           1.14         1.0            41   \n",
       "9998       2.0              1.0           2.92         1.0            88   \n",
       "9999       2.0              1.0           2.89         1.0           161   \n",
       "\n",
       "      DOLocationID  payment_type  congestion_surcharge  Y  fare_amount  \n",
       "0               90           1.0                   2.5  0     8.936279  \n",
       "1              246           2.0                   2.5  0     6.810380  \n",
       "2              234           1.0                   2.5  0     8.936279  \n",
       "3              170           2.0                   2.5  0     4.855368  \n",
       "4              238           2.0                   2.5  0    16.394855  \n",
       "...            ...           ...                   ... ..          ...  \n",
       "9995            74           3.0                   0.0  0     3.290310  \n",
       "9996           237           1.0                   2.5  0     4.855368  \n",
       "9997            74           1.0                   0.0  0     6.810380  \n",
       "9998            65           1.0                   2.5  0    11.369839  \n",
       "9999           238           1.0                   2.5  0    11.369839  \n",
       "\n",
       "[10000 rows x 10 columns]"
      ]
     },
     "execution_count": 47,
     "metadata": {},
     "output_type": "execute_result"
    }
   ],
   "source": [
    "# import the regressor\n",
    "from sklearn.tree import DecisionTreeRegressor\n",
    " \n",
    "# create a regressor object\n",
    "dTree = DecisionTreeRegressor( max_depth =6,random_state = 42)\n",
    " \n",
    "# fit the regressor with X and Y data                   # by far the best model!\n",
    "dTree.fit(X_train, y_train)\n",
    "\n",
    "print(dTree.score(X_train, y_train))\n",
    "print(dTree.score(X_test, y_test))\n",
    "\n",
    "pre = dTree.predict(df1)\n",
    "df1[\"fare_amount\"] = pre\n",
    "df1"
   ]
  },
  {
   "cell_type": "code",
   "execution_count": 48,
   "id": "5f8b6e50",
   "metadata": {},
   "outputs": [],
   "source": [
    "df1.to_csv(\"me19b116_J.akshay Kumar_prediction.csv\") "
   ]
  },
  {
   "cell_type": "code",
   "execution_count": 49,
   "id": "17332781",
   "metadata": {},
   "outputs": [
    {
     "name": "stdout",
     "output_type": "stream",
     "text": [
      "<class 'pandas.core.frame.DataFrame'>\n",
      "RangeIndex: 10000 entries, 0 to 9999\n",
      "Data columns (total 10 columns):\n",
      " #   Column                Non-Null Count  Dtype  \n",
      "---  ------                --------------  -----  \n",
      " 0   VendorID              10000 non-null  float64\n",
      " 1   passenger_count       10000 non-null  float64\n",
      " 2   trip_distance         10000 non-null  float64\n",
      " 3   RatecodeID            10000 non-null  float64\n",
      " 4   PULocationID          10000 non-null  int64  \n",
      " 5   DOLocationID          10000 non-null  int64  \n",
      " 6   payment_type          10000 non-null  float64\n",
      " 7   congestion_surcharge  10000 non-null  float64\n",
      " 8   Y                     10000 non-null  uint8  \n",
      " 9   fare_amount           10000 non-null  float64\n",
      "dtypes: float64(7), int64(2), uint8(1)\n",
      "memory usage: 713.0 KB\n"
     ]
    }
   ],
   "source": [
    "df1.to_csv('me19b116_J.akshay kumar_Predictions.csv')\n",
    "df1.info()"
   ]
  },
  {
   "cell_type": "markdown",
   "id": "e969644f",
   "metadata": {},
   "source": [
    "# Support Vector Regression"
   ]
  },
  {
   "cell_type": "code",
   "execution_count": 50,
   "id": "8d322570",
   "metadata": {},
   "outputs": [
    {
     "name": "stdout",
     "output_type": "stream",
     "text": [
      "0.6804481481490967\n",
      "0.7074970830235647\n"
     ]
    }
   ],
   "source": [
    "from sklearn.svm import SVR           # not as good performing as decision trees...\n",
    "svr = SVR().fit(X_train, y_train)\n",
    "print(svr.score(X_train, y_train))\n",
    "print(svr.score(X_test, y_test))"
   ]
  },
  {
   "cell_type": "markdown",
   "id": "d21841bf",
   "metadata": {},
   "source": [
    "# Random forest (ensemble) model"
   ]
  },
  {
   "cell_type": "code",
   "execution_count": 51,
   "id": "5dd8688e",
   "metadata": {},
   "outputs": [
    {
     "name": "stdout",
     "output_type": "stream",
     "text": [
      "-0.12094723642364835\n",
      "0.9517739132864129\n"
     ]
    }
   ],
   "source": [
    "from sklearn.ensemble import RandomForestRegressor\n",
    "from sklearn.datasets import make_regression\n",
    "X_train, y_train = make_regression(n_features=9, n_informative=5, random_state=42, shuffle=False)\n",
    "RFR = RandomForestRegressor(max_depth=15)\n",
    "RFR.fit(X, y)\n",
    "print(RFR.score(X_train, y_train))           # negative score indicating that the model is very bad performing\n",
    "print(RFR.score(X_test, y_test))"
   ]
  },
  {
   "cell_type": "markdown",
   "id": "4882f4d1",
   "metadata": {},
   "source": [
    "# so, finally we go with the Decision tree regressor model with a training score of 85.36%, and a testing score of 82.22"
   ]
  },
  {
   "cell_type": "markdown",
   "id": "47e68403",
   "metadata": {},
   "source": [
    "# Observations and conclusions"
   ]
  },
  {
   "cell_type": "markdown",
   "id": "42dc81b4",
   "metadata": {},
   "source": [
    "## most of the rides cost around 10-30 dollars"
   ]
  },
  {
   "cell_type": "markdown",
   "id": "33991cf3",
   "metadata": {},
   "source": [
    "## most of the distance travelled are between 0-20 miles"
   ]
  },
  {
   "cell_type": "markdown",
   "id": "34d9fc08",
   "metadata": {},
   "source": [
    "## most of the pickup and drop locations are in Manhattan and bronx areas"
   ]
  },
  {
   "cell_type": "markdown",
   "id": "e20e8525",
   "metadata": {},
   "source": [
    "## most common congestion_surcharge is 2.5"
   ]
  },
  {
   "cell_type": "markdown",
   "id": "f7edcb47",
   "metadata": {},
   "source": [
    "## most common Vendor is VeriFone Inc."
   ]
  },
  {
   "cell_type": "markdown",
   "id": "bdd6f739",
   "metadata": {},
   "source": [
    "## mostly passengers are travelling alone"
   ]
  },
  {
   "cell_type": "markdown",
   "id": "6137b81a",
   "metadata": {},
   "source": [
    "## standard rate code is the most common among all ones"
   ]
  },
  {
   "cell_type": "markdown",
   "id": "e787716b",
   "metadata": {},
   "source": [
    "## credit cards are the most common ways of payment followed by cash"
   ]
  },
  {
   "cell_type": "markdown",
   "id": "f9e32556",
   "metadata": {},
   "source": [
    "## most of the time the vehicle is connected to servers and is not stored and forward values"
   ]
  },
  {
   "cell_type": "markdown",
   "id": "dd686178",
   "metadata": {},
   "source": [
    "## Decision tree regressor proved to be the best model.. followed by polynomial regression model"
   ]
  },
  {
   "cell_type": "code",
   "execution_count": null,
   "id": "6ad4a17b",
   "metadata": {},
   "outputs": [],
   "source": []
  }
 ],
 "metadata": {
  "kernelspec": {
   "display_name": "Python 3",
   "language": "python",
   "name": "python3"
  },
  "language_info": {
   "codemirror_mode": {
    "name": "ipython",
    "version": 3
   },
   "file_extension": ".py",
   "mimetype": "text/x-python",
   "name": "python",
   "nbconvert_exporter": "python",
   "pygments_lexer": "ipython3",
   "version": "3.8.8"
  }
 },
 "nbformat": 4,
 "nbformat_minor": 5
}
