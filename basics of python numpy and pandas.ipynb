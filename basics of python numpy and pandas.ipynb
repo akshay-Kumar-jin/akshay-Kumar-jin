{
 "cells": [
  {
   "cell_type": "code",
   "execution_count": 30,
   "id": "75d45c2e",
   "metadata": {},
   "outputs": [],
   "source": [
    "import numpy as np"
   ]
  },
  {
   "cell_type": "code",
   "execution_count": 31,
   "id": "df75abc8",
   "metadata": {},
   "outputs": [
    {
     "data": {
      "text/plain": [
       "array([ 5,  6,  7,  8,  9, 10, 11, 12, 13, 14, 15, 16, 17, 18, 19])"
      ]
     },
     "execution_count": 31,
     "metadata": {},
     "output_type": "execute_result"
    }
   ],
   "source": [
    "np.arange(5,20)"
   ]
  },
  {
   "cell_type": "code",
   "execution_count": 32,
   "id": "453072cd",
   "metadata": {},
   "outputs": [
    {
     "data": {
      "text/plain": [
       "array([[1., 1.],\n",
       "       [1., 1.],\n",
       "       [1., 1.],\n",
       "       [1., 1.],\n",
       "       [1., 1.]])"
      ]
     },
     "execution_count": 32,
     "metadata": {},
     "output_type": "execute_result"
    }
   ],
   "source": [
    "np.ones((5,2))"
   ]
  },
  {
   "cell_type": "code",
   "execution_count": 33,
   "id": "9a64b658",
   "metadata": {},
   "outputs": [
    {
     "data": {
      "text/plain": [
       "array([[0.36262109, 0.01997232, 0.5850629 ],\n",
       "       [0.9400373 , 0.6578577 , 0.68265617]])"
      ]
     },
     "execution_count": 33,
     "metadata": {},
     "output_type": "execute_result"
    }
   ],
   "source": [
    "np.random.rand(2,3)"
   ]
  },
  {
   "cell_type": "code",
   "execution_count": 34,
   "id": "7795277b",
   "metadata": {},
   "outputs": [
    {
     "data": {
      "text/plain": [
       "182"
      ]
     },
     "execution_count": 34,
     "metadata": {},
     "output_type": "execute_result"
    }
   ],
   "source": [
    "a = 8+98+56+20\n",
    "a"
   ]
  },
  {
   "cell_type": "code",
   "execution_count": 35,
   "id": "68a87173",
   "metadata": {},
   "outputs": [
    {
     "data": {
      "text/plain": [
       "array([[1., 0., 0.],\n",
       "       [0., 1., 0.],\n",
       "       [0., 0., 1.]])"
      ]
     },
     "execution_count": 35,
     "metadata": {},
     "output_type": "execute_result"
    }
   ],
   "source": [
    "np.eye(3)"
   ]
  },
  {
   "cell_type": "code",
   "execution_count": 36,
   "id": "7841ee93",
   "metadata": {},
   "outputs": [
    {
     "data": {
      "text/plain": [
       "array([ 0. ,  2.5,  5. ,  7.5, 10. ])"
      ]
     },
     "execution_count": 36,
     "metadata": {},
     "output_type": "execute_result"
    }
   ],
   "source": [
    "np.linspace(0,10,5)"
   ]
  },
  {
   "cell_type": "code",
   "execution_count": 37,
   "id": "02d61ec0",
   "metadata": {},
   "outputs": [
    {
     "data": {
      "text/plain": [
       "array([53, 24, 79, 63,  9, 16,  7, 62,  1, 45, 65, 17, 69, 22, 52, 65,  6,\n",
       "       45, 72, 17])"
      ]
     },
     "execution_count": 37,
     "metadata": {},
     "output_type": "execute_result"
    }
   ],
   "source": [
    "rand_array = np.random.randint(0,80,20)\n",
    "rand_array"
   ]
  },
  {
   "cell_type": "code",
   "execution_count": 38,
   "id": "6fc7eb06",
   "metadata": {},
   "outputs": [
    {
     "data": {
      "text/plain": [
       "79"
      ]
     },
     "execution_count": 38,
     "metadata": {},
     "output_type": "execute_result"
    }
   ],
   "source": [
    "rand_array.max()"
   ]
  },
  {
   "cell_type": "code",
   "execution_count": 58,
   "id": "8476d4e7",
   "metadata": {},
   "outputs": [
    {
     "data": {
      "text/plain": [
       "array([[53, 24, 79, 63],\n",
       "       [ 9, 16,  7, 62],\n",
       "       [ 1, 45, 65, 17],\n",
       "       [69, 22, 52, 65],\n",
       "       [ 6, 45, 72, 17]])"
      ]
     },
     "execution_count": 58,
     "metadata": {},
     "output_type": "execute_result"
    }
   ],
   "source": [
    "b = rand_array.reshape(5,4)\n",
    "b"
   ]
  },
  {
   "cell_type": "code",
   "execution_count": 40,
   "id": "50bf13d7",
   "metadata": {},
   "outputs": [
    {
     "data": {
      "text/plain": [
       "2"
      ]
     },
     "execution_count": 40,
     "metadata": {},
     "output_type": "execute_result"
    }
   ],
   "source": [
    "rand_array.argmax()"
   ]
  },
  {
   "cell_type": "code",
   "execution_count": 41,
   "id": "41dbadb9",
   "metadata": {},
   "outputs": [
    {
     "data": {
      "text/plain": [
       "dtype('int32')"
      ]
     },
     "execution_count": 41,
     "metadata": {},
     "output_type": "execute_result"
    }
   ],
   "source": [
    "rand_array.dtype\n"
   ]
  },
  {
   "cell_type": "code",
   "execution_count": 42,
   "id": "d7e10af5",
   "metadata": {},
   "outputs": [
    {
     "data": {
      "text/plain": [
       "array([[1., 0., 0., 0., 0.],\n",
       "       [0., 1., 0., 0., 0.],\n",
       "       [0., 0., 1., 0., 0.],\n",
       "       [0., 0., 0., 1., 0.],\n",
       "       [0., 0., 0., 0., 1.]])"
      ]
     },
     "execution_count": 42,
     "metadata": {},
     "output_type": "execute_result"
    }
   ],
   "source": [
    "b = np.eye(5)\n",
    "b"
   ]
  },
  {
   "cell_type": "code",
   "execution_count": 51,
   "id": "0e263947",
   "metadata": {},
   "outputs": [
    {
     "data": {
      "text/plain": [
       "array([[0.05858266, 0.49157366, 0.68129757, 0.47131994],\n",
       "       [0.85718247, 0.51387154, 0.84145271, 0.91023525]])"
      ]
     },
     "execution_count": 51,
     "metadata": {},
     "output_type": "execute_result"
    }
   ],
   "source": [
    "b = np.random.rand(2,4"
   ]
  },
  {
   "cell_type": "code",
   "execution_count": 52,
   "id": "c7b8944d",
   "metadata": {},
   "outputs": [
    {
     "data": {
      "text/plain": [
       "0.9102352453559527"
      ]
     },
     "execution_count": 52,
     "metadata": {},
     "output_type": "execute_result"
    }
   ],
   "source": [
    "b.max()"
   ]
  },
  {
   "cell_type": "code",
   "execution_count": 53,
   "id": "370794a3",
   "metadata": {},
   "outputs": [
    {
     "data": {
      "text/plain": [
       "0.05858266487157071"
      ]
     },
     "execution_count": 53,
     "metadata": {},
     "output_type": "execute_result"
    }
   ],
   "source": [
    "b.min()"
   ]
  },
  {
   "cell_type": "markdown",
   "id": "915cbb96",
   "metadata": {},
   "source": [
    "# 2-dimensional arrays"
   ]
  },
  {
   "cell_type": "code",
   "execution_count": 66,
   "id": "39b8d877",
   "metadata": {},
   "outputs": [
    {
     "data": {
      "text/plain": [
       "array([[50, 20,  1, 23],\n",
       "       [24, 23, 21, 33],\n",
       "       [56, 76, 24,  7]])"
      ]
     },
     "execution_count": 66,
     "metadata": {},
     "output_type": "execute_result"
    }
   ],
   "source": [
    "matrix = np.array(([50,20,1,23],[24,23,21,33],[56,76,24,7]))\n",
    "matrix"
   ]
  },
  {
   "cell_type": "code",
   "execution_count": 70,
   "id": "18612bf0",
   "metadata": {
    "scrolled": true
   },
   "outputs": [
    {
     "data": {
      "text/plain": [
       "33"
      ]
     },
     "execution_count": 70,
     "metadata": {},
     "output_type": "execute_result"
    }
   ],
   "source": [
    "matrix[1][3]"
   ]
  },
  {
   "cell_type": "code",
   "execution_count": null,
   "id": "c5396a4e",
   "metadata": {},
   "outputs": [],
   "source": [
    "matrix"
   ]
  },
  {
   "cell_type": "code",
   "execution_count": 71,
   "id": "1a53c662",
   "metadata": {},
   "outputs": [
    {
     "data": {
      "text/plain": [
       "array([ 1, 21, 24])"
      ]
     },
     "execution_count": 71,
     "metadata": {},
     "output_type": "execute_result"
    }
   ],
   "source": [
    "matrix[:,2]"
   ]
  },
  {
   "cell_type": "code",
   "execution_count": 69,
   "id": "ca04f865",
   "metadata": {},
   "outputs": [
    {
     "data": {
      "text/plain": [
       "array([[23, 21],\n",
       "       [76, 24]])"
      ]
     },
     "execution_count": 69,
     "metadata": {},
     "output_type": "execute_result"
    }
   ],
   "source": [
    "matrix[1:3,1:3]"
   ]
  },
  {
   "cell_type": "code",
   "execution_count": 72,
   "id": "fb0f49ca",
   "metadata": {
    "scrolled": true
   },
   "outputs": [
    {
     "data": {
      "text/plain": [
       "array([[ 1, 23],\n",
       "       [21, 33],\n",
       "       [24,  7]])"
      ]
     },
     "execution_count": 72,
     "metadata": {},
     "output_type": "execute_result"
    }
   ],
   "source": [
    "matrix[0:3,(2,3)]"
   ]
  },
  {
   "cell_type": "code",
   "execution_count": 73,
   "id": "6a67f952",
   "metadata": {},
   "outputs": [
    {
     "data": {
      "text/plain": [
       "array([[2500,  400,    1,  529],\n",
       "       [ 576,  529,  441, 1089],\n",
       "       [3136, 5776,  576,   49]], dtype=int32)"
      ]
     },
     "execution_count": 73,
     "metadata": {},
     "output_type": "execute_result"
    }
   ],
   "source": [
    "np.square(matrix)"
   ]
  },
  {
   "cell_type": "code",
   "execution_count": 61,
   "id": "2ba4427d",
   "metadata": {},
   "outputs": [
    {
     "data": {
      "text/plain": [
       "array([ 1,  2,  3,  4,  5,  6,  7,  8,  9, 10, 11, 12, 13])"
      ]
     },
     "execution_count": 61,
     "metadata": {},
     "output_type": "execute_result"
    }
   ],
   "source": [
    "array = np.arange(1,14)\n",
    "array"
   ]
  },
  {
   "cell_type": "code",
   "execution_count": 58,
   "id": "9eb19db6",
   "metadata": {},
   "outputs": [
    {
     "data": {
      "text/plain": [
       "2.5"
      ]
     },
     "execution_count": 58,
     "metadata": {},
     "output_type": "execute_result"
    }
   ],
   "source": [
    "m = np.mean(array)\n",
    "m"
   ]
  },
  {
   "cell_type": "code",
   "execution_count": 73,
   "id": "138a343c",
   "metadata": {},
   "outputs": [
    {
     "data": {
      "text/plain": [
       "5"
      ]
     },
     "execution_count": 73,
     "metadata": {},
     "output_type": "execute_result"
    }
   ],
   "source": [
    "import statistics as stats\n",
    "a = [2,3,2,2,4,5,5,5,5,5]\n",
    "m2 = stats.mode(a)\n",
    "m2"
   ]
  },
  {
   "cell_type": "code",
   "execution_count": 75,
   "id": "6ecb0179",
   "metadata": {},
   "outputs": [
    {
     "name": "stdout",
     "output_type": "stream",
     "text": [
      "1921.8400000000001\n"
     ]
    }
   ],
   "source": [
    "arr = [1,11,121,24,16]\n",
    "print(np.var(arr))"
   ]
  },
  {
   "cell_type": "code",
   "execution_count": 62,
   "id": "33040a26",
   "metadata": {},
   "outputs": [
    {
     "data": {
      "text/plain": [
       "7.0"
      ]
     },
     "execution_count": 62,
     "metadata": {},
     "output_type": "execute_result"
    }
   ],
   "source": [
    "m1 = np.median(array)\n",
    "m1"
   ]
  },
  {
   "cell_type": "markdown",
   "id": "5841d576",
   "metadata": {},
   "source": [
    "# selection technique"
   ]
  },
  {
   "cell_type": "code",
   "execution_count": 78,
   "id": "a181d53c",
   "metadata": {},
   "outputs": [
    {
     "data": {
      "text/plain": [
       "array([ True,  True,  True,  True,  True,  True,  True, False, False,\n",
       "       False, False, False, False])"
      ]
     },
     "execution_count": 78,
     "metadata": {},
     "output_type": "execute_result"
    }
   ],
   "source": [
    "bool = array<8\n",
    "bool"
   ]
  },
  {
   "cell_type": "code",
   "execution_count": 79,
   "id": "c38b1f68",
   "metadata": {},
   "outputs": [
    {
     "data": {
      "text/plain": [
       "array([2.71828183e+00, 7.38905610e+00, 2.00855369e+01, 5.45981500e+01,\n",
       "       1.48413159e+02, 4.03428793e+02, 1.09663316e+03, 2.98095799e+03,\n",
       "       8.10308393e+03, 2.20264658e+04, 5.98741417e+04, 1.62754791e+05,\n",
       "       4.42413392e+05])"
      ]
     },
     "execution_count": 79,
     "metadata": {},
     "output_type": "execute_result"
    }
   ],
   "source": [
    "np.exp(array)"
   ]
  },
  {
   "cell_type": "code",
   "execution_count": 80,
   "id": "4da9adb9",
   "metadata": {},
   "outputs": [
    {
     "data": {
      "text/plain": [
       "array([1.        , 1.41421356, 1.73205081, 2.        , 2.23606798,\n",
       "       2.44948974, 2.64575131, 2.82842712, 3.        , 3.16227766,\n",
       "       3.31662479, 3.46410162, 3.60555128])"
      ]
     },
     "execution_count": 80,
     "metadata": {},
     "output_type": "execute_result"
    }
   ],
   "source": [
    "np.sqrt(array)"
   ]
  },
  {
   "cell_type": "code",
   "execution_count": 81,
   "id": "181a4d10",
   "metadata": {},
   "outputs": [
    {
     "data": {
      "text/plain": [
       "array([0.        , 0.69314718, 1.09861229, 1.38629436, 1.60943791,\n",
       "       1.79175947, 1.94591015, 2.07944154, 2.19722458, 2.30258509,\n",
       "       2.39789527, 2.48490665, 2.56494936])"
      ]
     },
     "execution_count": 81,
     "metadata": {},
     "output_type": "execute_result"
    }
   ],
   "source": [
    "np.log(array)"
   ]
  },
  {
   "cell_type": "code",
   "execution_count": 83,
   "id": "c022455b",
   "metadata": {},
   "outputs": [
    {
     "data": {
      "text/plain": [
       "12"
      ]
     },
     "execution_count": 83,
     "metadata": {},
     "output_type": "execute_result"
    }
   ],
   "source": [
    "np.argmax(array)"
   ]
  },
  {
   "cell_type": "code",
   "execution_count": 84,
   "id": "ab2a8369",
   "metadata": {},
   "outputs": [
    {
     "data": {
      "text/plain": [
       "array(['eng', 'hindi', 'telugu'], dtype='<U6')"
      ]
     },
     "execution_count": 84,
     "metadata": {},
     "output_type": "execute_result"
    }
   ],
   "source": [
    "languages = np.array(['hindi','telugu','eng','hindi','telugu'])\n",
    "np.unique(languages)"
   ]
  },
  {
   "cell_type": "code",
   "execution_count": 11,
   "id": "0f09c88d",
   "metadata": {},
   "outputs": [],
   "source": [
    "import numpy as np"
   ]
  },
  {
   "cell_type": "markdown",
   "id": "f57feaec",
   "metadata": {},
   "source": [
    "# pandas dataframe and indexing "
   ]
  },
  {
   "cell_type": "code",
   "execution_count": 1,
   "id": "83bc433f",
   "metadata": {},
   "outputs": [],
   "source": [
    "import pandas as pd"
   ]
  },
  {
   "cell_type": "code",
   "execution_count": 4,
   "id": "89343245",
   "metadata": {},
   "outputs": [],
   "source": [
    "labels = ['w','x','y','z']"
   ]
  },
  {
   "cell_type": "code",
   "execution_count": 5,
   "id": "d821959b",
   "metadata": {},
   "outputs": [],
   "source": [
    "list = [10,20,30,40]"
   ]
  },
  {
   "cell_type": "code",
   "execution_count": 14,
   "id": "073fd44e",
   "metadata": {},
   "outputs": [],
   "source": [
    "array = np.array([1,2,3,4])"
   ]
  },
  {
   "cell_type": "code",
   "execution_count": 18,
   "id": "a4ebc6bd",
   "metadata": {},
   "outputs": [],
   "source": [
    "dict = {'w':10,'x':20,'y':30,'z':40}"
   ]
  },
  {
   "cell_type": "code",
   "execution_count": 7,
   "id": "efcfeca1",
   "metadata": {},
   "outputs": [
    {
     "data": {
      "text/plain": [
       "0    10\n",
       "1    20\n",
       "2    30\n",
       "3    40\n",
       "dtype: int64"
      ]
     },
     "execution_count": 7,
     "metadata": {},
     "output_type": "execute_result"
    }
   ],
   "source": [
    "pd.Series(data=list)"
   ]
  },
  {
   "cell_type": "code",
   "execution_count": 8,
   "id": "2fcf5b5c",
   "metadata": {},
   "outputs": [
    {
     "data": {
      "text/plain": [
       "w    10\n",
       "x    20\n",
       "y    30\n",
       "z    40\n",
       "dtype: int64"
      ]
     },
     "execution_count": 8,
     "metadata": {},
     "output_type": "execute_result"
    }
   ],
   "source": [
    "pd.Series(data=list,index=labels)"
   ]
  },
  {
   "cell_type": "code",
   "execution_count": 15,
   "id": "ee9d0d0a",
   "metadata": {},
   "outputs": [
    {
     "data": {
      "text/plain": [
       "1    w\n",
       "2    x\n",
       "3    y\n",
       "4    z\n",
       "dtype: object"
      ]
     },
     "execution_count": 15,
     "metadata": {},
     "output_type": "execute_result"
    }
   ],
   "source": [
    "pd.Series(labels,array)"
   ]
  },
  {
   "cell_type": "code",
   "execution_count": 19,
   "id": "764b7022",
   "metadata": {},
   "outputs": [
    {
     "data": {
      "text/plain": [
       "w    10\n",
       "x    20\n",
       "y    30\n",
       "z    40\n",
       "dtype: int64"
      ]
     },
     "execution_count": 19,
     "metadata": {},
     "output_type": "execute_result"
    }
   ],
   "source": [
    "pd.Series(dict)"
   ]
  },
  {
   "cell_type": "code",
   "execution_count": 21,
   "id": "6c58a813",
   "metadata": {},
   "outputs": [
    {
     "data": {
      "text/plain": [
       "cricket       1\n",
       "football      2\n",
       "basketball    3\n",
       "golf          4\n",
       "dtype: int64"
      ]
     },
     "execution_count": 21,
     "metadata": {},
     "output_type": "execute_result"
    }
   ],
   "source": [
    "sports1 = pd.Series([1,2,3,4],index = ['cricket','football','basketball','golf'])\n",
    "sports1"
   ]
  },
  {
   "cell_type": "code",
   "execution_count": 25,
   "id": "dd46b79e",
   "metadata": {},
   "outputs": [
    {
     "data": {
      "text/plain": [
       "1"
      ]
     },
     "execution_count": 25,
     "metadata": {},
     "output_type": "execute_result"
    }
   ],
   "source": [
    "sports1['cricket']"
   ]
  },
  {
   "cell_type": "code",
   "execution_count": 22,
   "id": "dd0ed036",
   "metadata": {},
   "outputs": [
    {
     "data": {
      "text/plain": [
       "cricket     11\n",
       "football     2\n",
       "baseball    33\n",
       "golf         4\n",
       "dtype: int64"
      ]
     },
     "execution_count": 22,
     "metadata": {},
     "output_type": "execute_result"
    }
   ],
   "source": [
    "sports2 = pd.Series([11,2,33,4],index = ['cricket','football','baseball','golf'])\n",
    "sports2"
   ]
  },
  {
   "cell_type": "code",
   "execution_count": 24,
   "id": "e87dcc7a",
   "metadata": {},
   "outputs": [
    {
     "data": {
      "text/plain": [
       "baseball       NaN\n",
       "basketball     NaN\n",
       "cricket       12.0\n",
       "football       4.0\n",
       "golf           8.0\n",
       "dtype: float64"
      ]
     },
     "execution_count": 24,
     "metadata": {},
     "output_type": "execute_result"
    }
   ],
   "source": [
    "sports1+sports2"
   ]
  },
  {
   "cell_type": "code",
   "execution_count": 45,
   "id": "1601a7c0",
   "metadata": {
    "scrolled": false
   },
   "outputs": [
    {
     "data": {
      "text/html": [
       "<div>\n",
       "<style scoped>\n",
       "    .dataframe tbody tr th:only-of-type {\n",
       "        vertical-align: middle;\n",
       "    }\n",
       "\n",
       "    .dataframe tbody tr th {\n",
       "        vertical-align: top;\n",
       "    }\n",
       "\n",
       "    .dataframe thead th {\n",
       "        text-align: right;\n",
       "    }\n",
       "</style>\n",
       "<table border=\"1\" class=\"dataframe\">\n",
       "  <thead>\n",
       "    <tr style=\"text-align: right;\">\n",
       "      <th></th>\n",
       "      <th>score1</th>\n",
       "      <th>score2</th>\n",
       "      <th>score3</th>\n",
       "      <th>score4</th>\n",
       "      <th>score5</th>\n",
       "    </tr>\n",
       "  </thead>\n",
       "  <tbody>\n",
       "    <tr>\n",
       "      <th>A</th>\n",
       "      <td>0.362758</td>\n",
       "      <td>0.919948</td>\n",
       "      <td>0.378590</td>\n",
       "      <td>0.148253</td>\n",
       "      <td>0.873984</td>\n",
       "    </tr>\n",
       "    <tr>\n",
       "      <th>B</th>\n",
       "      <td>0.665496</td>\n",
       "      <td>0.681448</td>\n",
       "      <td>0.184255</td>\n",
       "      <td>0.054842</td>\n",
       "      <td>0.699426</td>\n",
       "    </tr>\n",
       "    <tr>\n",
       "      <th>C</th>\n",
       "      <td>0.690708</td>\n",
       "      <td>0.332263</td>\n",
       "      <td>0.033669</td>\n",
       "      <td>0.951041</td>\n",
       "      <td>0.626746</td>\n",
       "    </tr>\n",
       "    <tr>\n",
       "      <th>D</th>\n",
       "      <td>0.695982</td>\n",
       "      <td>0.363613</td>\n",
       "      <td>0.261349</td>\n",
       "      <td>0.323443</td>\n",
       "      <td>0.934228</td>\n",
       "    </tr>\n",
       "    <tr>\n",
       "      <th>E</th>\n",
       "      <td>0.440191</td>\n",
       "      <td>0.470261</td>\n",
       "      <td>0.551792</td>\n",
       "      <td>0.772008</td>\n",
       "      <td>0.618766</td>\n",
       "    </tr>\n",
       "    <tr>\n",
       "      <th>F</th>\n",
       "      <td>0.980270</td>\n",
       "      <td>0.572350</td>\n",
       "      <td>0.424561</td>\n",
       "      <td>0.349946</td>\n",
       "      <td>0.509115</td>\n",
       "    </tr>\n",
       "    <tr>\n",
       "      <th>G</th>\n",
       "      <td>0.419271</td>\n",
       "      <td>0.642475</td>\n",
       "      <td>0.882744</td>\n",
       "      <td>0.264336</td>\n",
       "      <td>0.915917</td>\n",
       "    </tr>\n",
       "  </tbody>\n",
       "</table>\n",
       "</div>"
      ],
      "text/plain": [
       "     score1    score2    score3    score4    score5\n",
       "A  0.362758  0.919948  0.378590  0.148253  0.873984\n",
       "B  0.665496  0.681448  0.184255  0.054842  0.699426\n",
       "C  0.690708  0.332263  0.033669  0.951041  0.626746\n",
       "D  0.695982  0.363613  0.261349  0.323443  0.934228\n",
       "E  0.440191  0.470261  0.551792  0.772008  0.618766\n",
       "F  0.980270  0.572350  0.424561  0.349946  0.509115\n",
       "G  0.419271  0.642475  0.882744  0.264336  0.915917"
      ]
     },
     "execution_count": 45,
     "metadata": {},
     "output_type": "execute_result"
    }
   ],
   "source": [
    "df1 = pd.DataFrame(np.random.rand(7,5),index = 'A B C D E F G'.split(),columns = 'score1 score2 score3 score4 score5'.split())\n",
    "df1"
   ]
  },
  {
   "cell_type": "raw",
   "id": "37f896cf",
   "metadata": {},
   "source": [
    "df1['score1']"
   ]
  },
  {
   "cell_type": "code",
   "execution_count": 49,
   "id": "11ed1e94",
   "metadata": {},
   "outputs": [
    {
     "data": {
      "text/html": [
       "<div>\n",
       "<style scoped>\n",
       "    .dataframe tbody tr th:only-of-type {\n",
       "        vertical-align: middle;\n",
       "    }\n",
       "\n",
       "    .dataframe tbody tr th {\n",
       "        vertical-align: top;\n",
       "    }\n",
       "\n",
       "    .dataframe thead th {\n",
       "        text-align: right;\n",
       "    }\n",
       "</style>\n",
       "<table border=\"1\" class=\"dataframe\">\n",
       "  <thead>\n",
       "    <tr style=\"text-align: right;\">\n",
       "      <th></th>\n",
       "      <th>score1</th>\n",
       "      <th>score2</th>\n",
       "      <th>score3</th>\n",
       "      <th>score4</th>\n",
       "      <th>score5</th>\n",
       "      <th>score6</th>\n",
       "    </tr>\n",
       "  </thead>\n",
       "  <tbody>\n",
       "    <tr>\n",
       "      <th>A</th>\n",
       "      <td>0.362758</td>\n",
       "      <td>0.919948</td>\n",
       "      <td>0.378590</td>\n",
       "      <td>0.148253</td>\n",
       "      <td>0.873984</td>\n",
       "      <td>1.282705</td>\n",
       "    </tr>\n",
       "    <tr>\n",
       "      <th>B</th>\n",
       "      <td>0.665496</td>\n",
       "      <td>0.681448</td>\n",
       "      <td>0.184255</td>\n",
       "      <td>0.054842</td>\n",
       "      <td>0.699426</td>\n",
       "      <td>1.346944</td>\n",
       "    </tr>\n",
       "    <tr>\n",
       "      <th>C</th>\n",
       "      <td>0.690708</td>\n",
       "      <td>0.332263</td>\n",
       "      <td>0.033669</td>\n",
       "      <td>0.951041</td>\n",
       "      <td>0.626746</td>\n",
       "      <td>1.022971</td>\n",
       "    </tr>\n",
       "    <tr>\n",
       "      <th>D</th>\n",
       "      <td>0.695982</td>\n",
       "      <td>0.363613</td>\n",
       "      <td>0.261349</td>\n",
       "      <td>0.323443</td>\n",
       "      <td>0.934228</td>\n",
       "      <td>1.059595</td>\n",
       "    </tr>\n",
       "    <tr>\n",
       "      <th>E</th>\n",
       "      <td>0.440191</td>\n",
       "      <td>0.470261</td>\n",
       "      <td>0.551792</td>\n",
       "      <td>0.772008</td>\n",
       "      <td>0.618766</td>\n",
       "      <td>0.910452</td>\n",
       "    </tr>\n",
       "    <tr>\n",
       "      <th>F</th>\n",
       "      <td>0.980270</td>\n",
       "      <td>0.572350</td>\n",
       "      <td>0.424561</td>\n",
       "      <td>0.349946</td>\n",
       "      <td>0.509115</td>\n",
       "      <td>1.552620</td>\n",
       "    </tr>\n",
       "    <tr>\n",
       "      <th>G</th>\n",
       "      <td>0.419271</td>\n",
       "      <td>0.642475</td>\n",
       "      <td>0.882744</td>\n",
       "      <td>0.264336</td>\n",
       "      <td>0.915917</td>\n",
       "      <td>1.061746</td>\n",
       "    </tr>\n",
       "  </tbody>\n",
       "</table>\n",
       "</div>"
      ],
      "text/plain": [
       "     score1    score2    score3    score4    score5    score6\n",
       "A  0.362758  0.919948  0.378590  0.148253  0.873984  1.282705\n",
       "B  0.665496  0.681448  0.184255  0.054842  0.699426  1.346944\n",
       "C  0.690708  0.332263  0.033669  0.951041  0.626746  1.022971\n",
       "D  0.695982  0.363613  0.261349  0.323443  0.934228  1.059595\n",
       "E  0.440191  0.470261  0.551792  0.772008  0.618766  0.910452\n",
       "F  0.980270  0.572350  0.424561  0.349946  0.509115  1.552620\n",
       "G  0.419271  0.642475  0.882744  0.264336  0.915917  1.061746"
      ]
     },
     "execution_count": 49,
     "metadata": {},
     "output_type": "execute_result"
    }
   ],
   "source": [
    "df1['score6'] = df1['score1']+df1['score2']\n",
    "df1"
   ]
  },
  {
   "cell_type": "code",
   "execution_count": 50,
   "id": "9738c25e",
   "metadata": {},
   "outputs": [
    {
     "data": {
      "text/html": [
       "<div>\n",
       "<style scoped>\n",
       "    .dataframe tbody tr th:only-of-type {\n",
       "        vertical-align: middle;\n",
       "    }\n",
       "\n",
       "    .dataframe tbody tr th {\n",
       "        vertical-align: top;\n",
       "    }\n",
       "\n",
       "    .dataframe thead th {\n",
       "        text-align: right;\n",
       "    }\n",
       "</style>\n",
       "<table border=\"1\" class=\"dataframe\">\n",
       "  <thead>\n",
       "    <tr style=\"text-align: right;\">\n",
       "      <th></th>\n",
       "      <th>score1</th>\n",
       "      <th>score2</th>\n",
       "      <th>score3</th>\n",
       "      <th>score5</th>\n",
       "      <th>score6</th>\n",
       "    </tr>\n",
       "  </thead>\n",
       "  <tbody>\n",
       "    <tr>\n",
       "      <th>A</th>\n",
       "      <td>0.362758</td>\n",
       "      <td>0.919948</td>\n",
       "      <td>0.378590</td>\n",
       "      <td>0.873984</td>\n",
       "      <td>1.282705</td>\n",
       "    </tr>\n",
       "    <tr>\n",
       "      <th>B</th>\n",
       "      <td>0.665496</td>\n",
       "      <td>0.681448</td>\n",
       "      <td>0.184255</td>\n",
       "      <td>0.699426</td>\n",
       "      <td>1.346944</td>\n",
       "    </tr>\n",
       "    <tr>\n",
       "      <th>C</th>\n",
       "      <td>0.690708</td>\n",
       "      <td>0.332263</td>\n",
       "      <td>0.033669</td>\n",
       "      <td>0.626746</td>\n",
       "      <td>1.022971</td>\n",
       "    </tr>\n",
       "    <tr>\n",
       "      <th>D</th>\n",
       "      <td>0.695982</td>\n",
       "      <td>0.363613</td>\n",
       "      <td>0.261349</td>\n",
       "      <td>0.934228</td>\n",
       "      <td>1.059595</td>\n",
       "    </tr>\n",
       "    <tr>\n",
       "      <th>E</th>\n",
       "      <td>0.440191</td>\n",
       "      <td>0.470261</td>\n",
       "      <td>0.551792</td>\n",
       "      <td>0.618766</td>\n",
       "      <td>0.910452</td>\n",
       "    </tr>\n",
       "    <tr>\n",
       "      <th>F</th>\n",
       "      <td>0.980270</td>\n",
       "      <td>0.572350</td>\n",
       "      <td>0.424561</td>\n",
       "      <td>0.509115</td>\n",
       "      <td>1.552620</td>\n",
       "    </tr>\n",
       "    <tr>\n",
       "      <th>G</th>\n",
       "      <td>0.419271</td>\n",
       "      <td>0.642475</td>\n",
       "      <td>0.882744</td>\n",
       "      <td>0.915917</td>\n",
       "      <td>1.061746</td>\n",
       "    </tr>\n",
       "  </tbody>\n",
       "</table>\n",
       "</div>"
      ],
      "text/plain": [
       "     score1    score2    score3    score5    score6\n",
       "A  0.362758  0.919948  0.378590  0.873984  1.282705\n",
       "B  0.665496  0.681448  0.184255  0.699426  1.346944\n",
       "C  0.690708  0.332263  0.033669  0.626746  1.022971\n",
       "D  0.695982  0.363613  0.261349  0.934228  1.059595\n",
       "E  0.440191  0.470261  0.551792  0.618766  0.910452\n",
       "F  0.980270  0.572350  0.424561  0.509115  1.552620\n",
       "G  0.419271  0.642475  0.882744  0.915917  1.061746"
      ]
     },
     "execution_count": 50,
     "metadata": {},
     "output_type": "execute_result"
    }
   ],
   "source": [
    "df1.drop('score4',axis=1)"
   ]
  },
  {
   "cell_type": "code",
   "execution_count": 51,
   "id": "bf573da5",
   "metadata": {},
   "outputs": [
    {
     "data": {
      "text/html": [
       "<div>\n",
       "<style scoped>\n",
       "    .dataframe tbody tr th:only-of-type {\n",
       "        vertical-align: middle;\n",
       "    }\n",
       "\n",
       "    .dataframe tbody tr th {\n",
       "        vertical-align: top;\n",
       "    }\n",
       "\n",
       "    .dataframe thead th {\n",
       "        text-align: right;\n",
       "    }\n",
       "</style>\n",
       "<table border=\"1\" class=\"dataframe\">\n",
       "  <thead>\n",
       "    <tr style=\"text-align: right;\">\n",
       "      <th></th>\n",
       "      <th>score1</th>\n",
       "      <th>score2</th>\n",
       "      <th>score3</th>\n",
       "      <th>score4</th>\n",
       "      <th>score5</th>\n",
       "      <th>score6</th>\n",
       "    </tr>\n",
       "  </thead>\n",
       "  <tbody>\n",
       "    <tr>\n",
       "      <th>A</th>\n",
       "      <td>0.362758</td>\n",
       "      <td>0.919948</td>\n",
       "      <td>0.378590</td>\n",
       "      <td>0.148253</td>\n",
       "      <td>0.873984</td>\n",
       "      <td>1.282705</td>\n",
       "    </tr>\n",
       "    <tr>\n",
       "      <th>B</th>\n",
       "      <td>0.665496</td>\n",
       "      <td>0.681448</td>\n",
       "      <td>0.184255</td>\n",
       "      <td>0.054842</td>\n",
       "      <td>0.699426</td>\n",
       "      <td>1.346944</td>\n",
       "    </tr>\n",
       "    <tr>\n",
       "      <th>C</th>\n",
       "      <td>0.690708</td>\n",
       "      <td>0.332263</td>\n",
       "      <td>0.033669</td>\n",
       "      <td>0.951041</td>\n",
       "      <td>0.626746</td>\n",
       "      <td>1.022971</td>\n",
       "    </tr>\n",
       "    <tr>\n",
       "      <th>D</th>\n",
       "      <td>0.695982</td>\n",
       "      <td>0.363613</td>\n",
       "      <td>0.261349</td>\n",
       "      <td>0.323443</td>\n",
       "      <td>0.934228</td>\n",
       "      <td>1.059595</td>\n",
       "    </tr>\n",
       "    <tr>\n",
       "      <th>F</th>\n",
       "      <td>0.980270</td>\n",
       "      <td>0.572350</td>\n",
       "      <td>0.424561</td>\n",
       "      <td>0.349946</td>\n",
       "      <td>0.509115</td>\n",
       "      <td>1.552620</td>\n",
       "    </tr>\n",
       "    <tr>\n",
       "      <th>G</th>\n",
       "      <td>0.419271</td>\n",
       "      <td>0.642475</td>\n",
       "      <td>0.882744</td>\n",
       "      <td>0.264336</td>\n",
       "      <td>0.915917</td>\n",
       "      <td>1.061746</td>\n",
       "    </tr>\n",
       "  </tbody>\n",
       "</table>\n",
       "</div>"
      ],
      "text/plain": [
       "     score1    score2    score3    score4    score5    score6\n",
       "A  0.362758  0.919948  0.378590  0.148253  0.873984  1.282705\n",
       "B  0.665496  0.681448  0.184255  0.054842  0.699426  1.346944\n",
       "C  0.690708  0.332263  0.033669  0.951041  0.626746  1.022971\n",
       "D  0.695982  0.363613  0.261349  0.323443  0.934228  1.059595\n",
       "F  0.980270  0.572350  0.424561  0.349946  0.509115  1.552620\n",
       "G  0.419271  0.642475  0.882744  0.264336  0.915917  1.061746"
      ]
     },
     "execution_count": 51,
     "metadata": {},
     "output_type": "execute_result"
    }
   ],
   "source": [
    "df1.drop('E')"
   ]
  },
  {
   "cell_type": "code",
   "execution_count": 55,
   "id": "16b07123",
   "metadata": {},
   "outputs": [
    {
     "data": {
      "text/html": [
       "<div>\n",
       "<style scoped>\n",
       "    .dataframe tbody tr th:only-of-type {\n",
       "        vertical-align: middle;\n",
       "    }\n",
       "\n",
       "    .dataframe tbody tr th {\n",
       "        vertical-align: top;\n",
       "    }\n",
       "\n",
       "    .dataframe thead th {\n",
       "        text-align: right;\n",
       "    }\n",
       "</style>\n",
       "<table border=\"1\" class=\"dataframe\">\n",
       "  <thead>\n",
       "    <tr style=\"text-align: right;\">\n",
       "      <th></th>\n",
       "      <th>index</th>\n",
       "      <th>score1</th>\n",
       "      <th>score2</th>\n",
       "      <th>score3</th>\n",
       "      <th>score4</th>\n",
       "      <th>score5</th>\n",
       "      <th>score6</th>\n",
       "    </tr>\n",
       "  </thead>\n",
       "  <tbody>\n",
       "    <tr>\n",
       "      <th>0</th>\n",
       "      <td>A</td>\n",
       "      <td>0.362758</td>\n",
       "      <td>0.919948</td>\n",
       "      <td>0.378590</td>\n",
       "      <td>0.148253</td>\n",
       "      <td>0.873984</td>\n",
       "      <td>1.282705</td>\n",
       "    </tr>\n",
       "    <tr>\n",
       "      <th>1</th>\n",
       "      <td>B</td>\n",
       "      <td>0.665496</td>\n",
       "      <td>0.681448</td>\n",
       "      <td>0.184255</td>\n",
       "      <td>0.054842</td>\n",
       "      <td>0.699426</td>\n",
       "      <td>1.346944</td>\n",
       "    </tr>\n",
       "    <tr>\n",
       "      <th>2</th>\n",
       "      <td>C</td>\n",
       "      <td>0.690708</td>\n",
       "      <td>0.332263</td>\n",
       "      <td>0.033669</td>\n",
       "      <td>0.951041</td>\n",
       "      <td>0.626746</td>\n",
       "      <td>1.022971</td>\n",
       "    </tr>\n",
       "    <tr>\n",
       "      <th>3</th>\n",
       "      <td>D</td>\n",
       "      <td>0.695982</td>\n",
       "      <td>0.363613</td>\n",
       "      <td>0.261349</td>\n",
       "      <td>0.323443</td>\n",
       "      <td>0.934228</td>\n",
       "      <td>1.059595</td>\n",
       "    </tr>\n",
       "    <tr>\n",
       "      <th>4</th>\n",
       "      <td>E</td>\n",
       "      <td>0.440191</td>\n",
       "      <td>0.470261</td>\n",
       "      <td>0.551792</td>\n",
       "      <td>0.772008</td>\n",
       "      <td>0.618766</td>\n",
       "      <td>0.910452</td>\n",
       "    </tr>\n",
       "    <tr>\n",
       "      <th>5</th>\n",
       "      <td>F</td>\n",
       "      <td>0.980270</td>\n",
       "      <td>0.572350</td>\n",
       "      <td>0.424561</td>\n",
       "      <td>0.349946</td>\n",
       "      <td>0.509115</td>\n",
       "      <td>1.552620</td>\n",
       "    </tr>\n",
       "    <tr>\n",
       "      <th>6</th>\n",
       "      <td>G</td>\n",
       "      <td>0.419271</td>\n",
       "      <td>0.642475</td>\n",
       "      <td>0.882744</td>\n",
       "      <td>0.264336</td>\n",
       "      <td>0.915917</td>\n",
       "      <td>1.061746</td>\n",
       "    </tr>\n",
       "  </tbody>\n",
       "</table>\n",
       "</div>"
      ],
      "text/plain": [
       "  index    score1    score2    score3    score4    score5    score6\n",
       "0     A  0.362758  0.919948  0.378590  0.148253  0.873984  1.282705\n",
       "1     B  0.665496  0.681448  0.184255  0.054842  0.699426  1.346944\n",
       "2     C  0.690708  0.332263  0.033669  0.951041  0.626746  1.022971\n",
       "3     D  0.695982  0.363613  0.261349  0.323443  0.934228  1.059595\n",
       "4     E  0.440191  0.470261  0.551792  0.772008  0.618766  0.910452\n",
       "5     F  0.980270  0.572350  0.424561  0.349946  0.509115  1.552620\n",
       "6     G  0.419271  0.642475  0.882744  0.264336  0.915917  1.061746"
      ]
     },
     "execution_count": 55,
     "metadata": {},
     "output_type": "execute_result"
    }
   ],
   "source": [
    "df1.reset_index()"
   ]
  },
  {
   "cell_type": "code",
   "execution_count": 54,
   "id": "9cdace73",
   "metadata": {},
   "outputs": [
    {
     "data": {
      "text/html": [
       "<div>\n",
       "<style scoped>\n",
       "    .dataframe tbody tr th:only-of-type {\n",
       "        vertical-align: middle;\n",
       "    }\n",
       "\n",
       "    .dataframe tbody tr th {\n",
       "        vertical-align: top;\n",
       "    }\n",
       "\n",
       "    .dataframe thead th {\n",
       "        text-align: right;\n",
       "    }\n",
       "</style>\n",
       "<table border=\"1\" class=\"dataframe\">\n",
       "  <thead>\n",
       "    <tr style=\"text-align: right;\">\n",
       "      <th></th>\n",
       "      <th>id</th>\n",
       "      <th>name</th>\n",
       "      <th>profit</th>\n",
       "    </tr>\n",
       "  </thead>\n",
       "  <tbody>\n",
       "    <tr>\n",
       "      <th>0</th>\n",
       "      <td>101</td>\n",
       "      <td>j</td>\n",
       "      <td>10</td>\n",
       "    </tr>\n",
       "    <tr>\n",
       "      <th>1</th>\n",
       "      <td>102</td>\n",
       "      <td>a</td>\n",
       "      <td>20</td>\n",
       "    </tr>\n",
       "    <tr>\n",
       "      <th>2</th>\n",
       "      <td>103</td>\n",
       "      <td>c</td>\n",
       "      <td>30</td>\n",
       "    </tr>\n",
       "    <tr>\n",
       "      <th>3</th>\n",
       "      <td>104</td>\n",
       "      <td>k</td>\n",
       "      <td>40</td>\n",
       "    </tr>\n",
       "    <tr>\n",
       "      <th>4</th>\n",
       "      <td>105</td>\n",
       "      <td>y</td>\n",
       "      <td>50</td>\n",
       "    </tr>\n",
       "  </tbody>\n",
       "</table>\n",
       "</div>"
      ],
      "text/plain": [
       "    id name  profit\n",
       "0  101    j      10\n",
       "1  102    a      20\n",
       "2  103    c      30\n",
       "3  104    k      40\n",
       "4  105    y      50"
      ]
     },
     "execution_count": 54,
     "metadata": {},
     "output_type": "execute_result"
    }
   ],
   "source": [
    "df2 = {'id':[101,102,103,104,105],'name':['j','a','c','k','y'],'profit':[10,20,30,40,50,]}\n",
    "df = pd.DataFrame(df2)\n",
    "df"
   ]
  },
  {
   "cell_type": "code",
   "execution_count": null,
   "id": "77aa2264",
   "metadata": {},
   "outputs": [],
   "source": []
  }
 ],
 "metadata": {
  "kernelspec": {
   "display_name": "Python 3",
   "language": "python",
   "name": "python3"
  },
  "language_info": {
   "codemirror_mode": {
    "name": "ipython",
    "version": 3
   },
   "file_extension": ".py",
   "mimetype": "text/x-python",
   "name": "python",
   "nbconvert_exporter": "python",
   "pygments_lexer": "ipython3",
   "version": "3.8.8"
  }
 },
 "nbformat": 4,
 "nbformat_minor": 5
}
